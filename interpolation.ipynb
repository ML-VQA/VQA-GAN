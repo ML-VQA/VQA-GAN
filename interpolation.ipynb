{
 "cells": [
  {
   "cell_type": "code",
   "execution_count": 2,
   "metadata": {},
   "outputs": [],
   "source": [
    "from __future__ import print_function, division\n",
    "\n",
    "from keras.datasets import mnist\n",
    "from keras.layers import Input, Dense, Reshape, Flatten, Dropout, multiply, GlobalAveragePooling2D, MaxPooling2D\n",
    "from keras.layers import BatchNormalization, Activation, Embedding, ZeroPadding2D\n",
    "from keras.layers.advanced_activations import LeakyReLU\n",
    "from keras.layers.convolutional import UpSampling2D, Conv2D\n",
    "from keras.models import Sequential, Model\n",
    "from keras.optimizers import Adam\n",
    "\n",
    "import matplotlib.pyplot as plt\n",
    "\n",
    "import numpy as np\n",
    "from scipy.misc import imread\n",
    "from scipy.misc import imresize\n",
    "from scipy.misc import imsave\n",
    "import glob\n",
    "import random\n",
    "\n",
    "from keras.preprocessing.image import ImageDataGenerator\n",
    "from keras import applications\n",
    "from keras.optimizers import SGD\n",
    "from keras.callbacks import ModelCheckpoint, ReduceLROnPlateau\n",
    "from keras.callbacks import EarlyStopping\n",
    "from keras.utils import to_categorical\n",
    "#from keras.applications.resnet50 import preprocess_input\n",
    "\n",
    "from keras.applications.resnet50 import ResNet50\n",
    "from keras.preprocessing import image\n",
    "from keras.applications.resnet50 import preprocess_input, decode_predictions\n",
    "#from keras.applications.vgg19 import preprocess_input as preprocess_vgg\n",
    "from keras.applications.inception_v3 import preprocess_input as inception_preprocess\n",
    "\n",
    "#from keras.applications.inception_resnet_v2 import preprocess_input\n",
    "\n",
    "import numpy as np\n",
    "\n",
    "import keras\n",
    "import copy\n",
    "import cv2\n",
    "\n",
    "from keras.models import *\n",
    "from keras.layers import *\n",
    "from keras.optimizers import *\n",
    "\n",
    "import numpy as np \n",
    "import os\n",
    "import numpy as np\n",
    "from keras.callbacks import ModelCheckpoint, LearningRateScheduler\n",
    "from keras import backend as keras"
   ]
  },
  {
   "cell_type": "code",
   "execution_count": 12,
   "metadata": {},
   "outputs": [
    {
     "name": "stdout",
     "output_type": "stream",
     "text": [
      "949\n"
     ]
    }
   ],
   "source": [
    "path = '../data/'\n",
    "savepath = '../data/'\n",
    "#images = glob.glob(path+'new_data/*.npy')\n",
    "tile_sizes = np.loadtxt(path+'tile_sizes.txt', dtype='int')\n",
    "tile_sizes = tile_sizes[10:800]\n",
    "images_sampled = {}\n",
    "for tile in tile_sizes:\n",
    "    for i in range(1, 500):\n",
    "        images_sampled.setdefault(tile[0]*30+i, []).append(tile[1])\n",
    "print(len(images_sampled.keys()))"
   ]
  },
  {
   "cell_type": "code",
   "execution_count": 24,
   "metadata": {},
   "outputs": [
    {
     "name": "stderr",
     "output_type": "stream",
     "text": [
      "/usr/local/lib/python3.5/dist-packages/ipykernel_launcher.py:12: DeprecationWarning: `imresize` is deprecated!\n",
      "`imresize` is deprecated in SciPy 1.0.0, and will be removed in 1.2.0.\n",
      "Use ``skimage.transform.resize`` instead.\n",
      "  if sys.path[0] == '':\n",
      "/usr/local/lib/python3.5/dist-packages/ipykernel_launcher.py:13: DeprecationWarning: `imresize` is deprecated!\n",
      "`imresize` is deprecated in SciPy 1.0.0, and will be removed in 1.2.0.\n",
      "Use ``skimage.transform.resize`` instead.\n",
      "  del sys.path[0]\n",
      "/usr/local/lib/python3.5/dist-packages/ipykernel_launcher.py:14: DeprecationWarning: `imresize` is deprecated!\n",
      "`imresize` is deprecated in SciPy 1.0.0, and will be removed in 1.2.0.\n",
      "Use ``skimage.transform.resize`` instead.\n",
      "  \n"
     ]
    },
    {
     "name": "stdout",
     "output_type": "stream",
     "text": [
      "xtrain shape: (500, 192, 192, 3)\n",
      "ytrain shape: (500, 192, 192, 3)\n"
     ]
    }
   ],
   "source": [
    "def myGenerator(batch_size):\n",
    "    s = 192\n",
    "    while True:\n",
    "        index_list = random.sample(images_sampled.keys(), batch_size)\n",
    "        alldata_x = []\n",
    "        alldata_y = []\n",
    "        for i in index_list:\n",
    "            frame = path+'sources/nparrs_384/frame'+str(i)+'.npy'\n",
    "            frame = np.load(frame)\n",
    "            tile_index = random.choice(images_sampled[i])\n",
    "            \n",
    "            tmp = imresize(frame[tile_index], (s, 192))\n",
    "            temp  = imresize(frame[tile_index], (24, 24))\n",
    "            temp  = imresize(temp, (s, 192))\n",
    "            \n",
    "            alldata_x.append(temp)\n",
    "            #alldata_y.append(frame[tile_index])\n",
    "            alldata_y.append(tmp)\n",
    "        \n",
    "        alldata_x = np.array(alldata_x)\n",
    "        alldata_y = np.array(alldata_y)\n",
    "        \n",
    "        alldata_y = (alldata_y.astype(np.float32) - 127.5) / 127.5\n",
    "        alldata_x = alldata_x.astype(np.float32)/255.0\n",
    "        \n",
    "        yield alldata_x, alldata_y\n",
    "\n",
    "x = myGenerator(500)\n",
    "xtrain, ytrain = next(x)\n",
    "print('xtrain shape:',xtrain.shape)\n",
    "print('ytrain shape:',ytrain.shape)"
   ]
  },
  {
   "cell_type": "code",
   "execution_count": 65,
   "metadata": {},
   "outputs": [
    {
     "name": "stdout",
     "output_type": "stream",
     "text": [
      "100\n",
      "54.98640710081604\n",
      "100\n",
      "79.17284820376054\n",
      "69.83483471179272\n"
     ]
    }
   ],
   "source": [
    "import numpy \n",
    "import math\n",
    "import cv2\n",
    "import time\n",
    "\n",
    "def psnr(img1, img2):\n",
    "    mse = numpy.mean( (img1 - img2) ** 2 )\n",
    "    if mse == 0:\n",
    "        return 100\n",
    "    PIXEL_MAX = 255.0\n",
    "    return 20 * math.log10(PIXEL_MAX / math.sqrt(mse))\n",
    "\n",
    "data = []\n",
    "for i in range(5):\n",
    "    cv2.imwrite(path+'xface' + str(i) + '.jpg', xtrain[i])\n",
    "    cv2.imwrite(path+'yface' + str(i) + '.jpg', ytrain[i])\n",
    "    img1 = cv2.imread(path+'xface' + str(i) + '.jpg')\n",
    "    img2 = cv2.imread(path+'yface' + str(i) + '.jpg')\n",
    "    d = psnr(img1, img2)\n",
    "    print (d)"
   ]
  },
  {
   "cell_type": "code",
   "execution_count": 51,
   "metadata": {},
   "outputs": [
    {
     "data": {
      "text/plain": [
       "<matplotlib.image.AxesImage at 0x7f9eb1732438>"
      ]
     },
     "execution_count": 51,
     "metadata": {},
     "output_type": "execute_result"
    },
    {
     "data": {
      "image/png": "[encoded data removed]",
      "text/plain": [
       "<Figure size 432x288 with 1 Axes>"
      ]
     },
     "metadata": {
      "needs_background": "light"
     },
     "output_type": "display_data"
    }
   ],
   "source": [
    "plt.imshow(xtrain[200])\n"
   ]
  },
  {
   "cell_type": "code",
   "execution_count": 50,
   "metadata": {},
   "outputs": [
    {
     "name": "stderr",
     "output_type": "stream",
     "text": [
      "Clipping input data to the valid range for imshow with RGB data ([0..1] for floats or [0..255] for integers).\n"
     ]
    },
    {
     "data": {
      "text/plain": [
       "<matplotlib.image.AxesImage at 0x7f9eb112ec18>"
      ]
     },
     "execution_count": 50,
     "metadata": {},
     "output_type": "execute_result"
    },
    {
     "data": {
      "image/png": "[encoded data removed]",
      "text/plain": [
       "<Figure size 432x288 with 1 Axes>"
      ]
     },
     "metadata": {
      "needs_background": "light"
     },
     "output_type": "display_data"
    }
   ],
   "source": [
    "plt.imshow(ytrain[200])"
   ]
  },
  {
   "cell_type": "code",
   "execution_count": 58,
   "metadata": {},
   "outputs": [],
   "source": [
    "def psnr2(target, ref):\n",
    "    # assume RGB image\n",
    "    target_data = numpy.array(target, dtype=float)\n",
    "    ref_data = numpy.array(ref, dtype=float)\n",
    "\n",
    "    diff = ref_data - target_data\n",
    "    diff = diff.flatten('C')\n",
    "\n",
    "    rmse = math.sqrt(numpy.mean(diff ** 2.))\n",
    "\n",
    "    return 20 * math.log10(255. / rmse)"
   ]
  },
  {
   "cell_type": "code",
   "execution_count": 61,
   "metadata": {},
   "outputs": [
    {
     "name": "stdout",
     "output_type": "stream",
     "text": [
      "50.43966780786802\n"
     ]
    }
   ],
   "source": [
    "d = psnr2(ytrain[100], xtrain[100])\n",
    "print (d)"
   ]
  },
  {
   "cell_type": "code",
   "execution_count": 91,
   "metadata": {},
   "outputs": [
    {
     "name": "stderr",
     "output_type": "stream",
     "text": [
      "/usr/local/lib/python3.5/dist-packages/ipykernel_launcher.py:4: DeprecationWarning: `imresize` is deprecated!\n",
      "`imresize` is deprecated in SciPy 1.0.0, and will be removed in 1.2.0.\n",
      "Use ``skimage.transform.resize`` instead.\n",
      "  after removing the cwd from sys.path.\n",
      "/usr/local/lib/python3.5/dist-packages/ipykernel_launcher.py:5: DeprecationWarning: `imresize` is deprecated!\n",
      "`imresize` is deprecated in SciPy 1.0.0, and will be removed in 1.2.0.\n",
      "Use ``skimage.transform.resize`` instead.\n",
      "  \"\"\"\n"
     ]
    },
    {
     "name": "stdout",
     "output_type": "stream",
     "text": [
      "28.28093333735203\n",
      "27.75066084935322\n",
      "27.97305946161486\n",
      "28.35734645402992\n",
      "27.97332843597033\n",
      "27.915793514051074\n",
      "28.240574699127595\n",
      "28.12382632808768\n",
      "28.371180773378597\n",
      "27.752681797322776\n",
      "27.870924748281865\n",
      "27.838380698812657\n",
      "28.279441185845073\n",
      "27.411155034865338\n",
      "27.780359922300487\n",
      "28.161183824440876\n",
      "27.952052892107243\n",
      "27.57232105407988\n",
      "28.04119940311827\n",
      "27.986212019205198\n",
      "27.720265203011145\n",
      "27.903968787954028\n",
      "27.789379779881827\n",
      "27.47219139949927\n",
      "28.391840808908533\n",
      "28.767573537088715\n",
      "28.03041856409856\n",
      "27.368557376751433\n",
      "28.208424797533183\n",
      "28.2759363165901\n",
      "28.380556028293675\n",
      "28.44577007186572\n",
      "27.58724084546565\n",
      "27.979556141524185\n",
      "28.219036359092357\n",
      "28.208589610593265\n",
      "28.201529046447543\n",
      "27.01771844203702\n",
      "27.66335715113939\n",
      "28.502309571955955\n",
      "27.42504611623145\n",
      "28.181835534375832\n",
      "28.524278138777397\n",
      "27.770749573125002\n",
      "28.4635299841519\n",
      "27.466435499117434\n",
      "28.330039656106514\n",
      "27.68889681729604\n",
      "27.877838408457706\n",
      "28.362914456167548\n",
      "28.670627395728808\n",
      "27.913186492402616\n",
      "27.75277421679653\n",
      "28.488498728679378\n",
      "27.82697001532913\n",
      "28.475078743473183\n",
      "28.76877334999167\n",
      "28.61006497975112\n",
      "28.107329429223746\n",
      "27.706974617523233\n",
      "28.189963999494914\n",
      "27.33073667721535\n",
      "28.23865912968276\n",
      "27.416937205009788\n",
      "27.68905466483801\n",
      "28.204183588051773\n",
      "27.522093915216885\n",
      "27.820300951189743\n",
      "28.35204890013931\n",
      "28.91918303166613\n",
      "28.250078559229436\n",
      "27.84756697227333\n",
      "28.284990597542496\n",
      "28.197200057878597\n",
      "27.45398151548408\n",
      "27.99479149730029\n",
      "28.014511654122742\n",
      "28.21583767275513\n",
      "28.36869399910936\n",
      "29.046648941951602\n",
      "28.086454883677106\n",
      "27.313714119580723\n",
      "27.588742839913852\n",
      "28.76838470756598\n",
      "27.885919687765373\n",
      "28.45348688273125\n",
      "27.69929312482958\n",
      "27.776986269964773\n",
      "27.33073667721535\n",
      "27.22278744763452\n",
      "28.5342024932103\n",
      "26.787761749932915\n",
      "27.566186767438854\n",
      "28.417731287519366\n",
      "27.895550792461748\n",
      "28.22854546437229\n",
      "28.250078559229436\n",
      "28.271062151147387\n",
      "27.936087380186123\n",
      "27.67271608346868\n"
     ]
    }
   ],
   "source": [
    "data = []\n",
    "for i in range(100):\n",
    "    img1 = cv2.imread(path+'test/frame_real'+str(i)+'.png')\n",
    "    img2 = imresize(img1, (1, 1))\n",
    "    img2 = imresize(img2, (384, 384))\n",
    "    d = psnr(img1, img2)\n",
    "    data.append(d)\n",
    "    print(d)"
   ]
  },
  {
   "cell_type": "code",
   "execution_count": 86,
   "metadata": {},
   "outputs": [
    {
     "data": {
      "text/plain": [
       "28.012225713257795"
      ]
     },
     "execution_count": 86,
     "metadata": {},
     "output_type": "execute_result"
    }
   ],
   "source": [
    "np.mean(data)"
   ]
  },
  {
   "cell_type": "code",
   "execution_count": 89,
   "metadata": {},
   "outputs": [],
   "source": [
    "\"\"\"\n",
    "Video Quality Metrics\n",
    "Copyright (c) 2014 Alex Izvorski <aizvorski@gmail.com>\n",
    "\n",
    "This program is free software: you can redistribute it and/or modify\n",
    "it under the terms of the GNU General Public License as published by\n",
    "the Free Software Foundation, either version 3 of the License, or\n",
    "(at your option) any later version.\n",
    "\n",
    "This program is distributed in the hope that it will be useful,\n",
    "but WITHOUT ANY WARRANTY; without even the implied warranty of\n",
    "MERCHANTABILITY or FITNESS FOR A PARTICULAR PURPOSE.  See the\n",
    "GNU General Public License for more details.\n",
    "\n",
    "You should have received a copy of the GNU General Public License\n",
    "along with this program.  If not, see <http://www.gnu.org/licenses/>.\n",
    "\"\"\"\n",
    "\n",
    "import numpy\n",
    "from scipy.ndimage import gaussian_filter\n",
    "\n",
    "from numpy.lib.stride_tricks import as_strided as ast\n",
    "\n",
    "\"\"\"\n",
    "Hat tip: http://stackoverflow.com/a/5078155/1828289\n",
    "\"\"\"\n",
    "def block_view(A, block=(3, 3)):\n",
    "    \"\"\"Provide a 2D block view to 2D array. No error checking made.\n",
    "    Therefore meaningful (as implemented) only for blocks strictly\n",
    "    compatible with the shape of A.\"\"\"\n",
    "    # simple shape and strides computations may seem at first strange\n",
    "    # unless one is able to recognize the 'tuple additions' involved ;-)\n",
    "    shape = (A.shape[0]/ block[0], A.shape[1]/ block[1])+ block\n",
    "    strides = (block[0]* A.strides[0], block[1]* A.strides[1])+ A.strides\n",
    "    return ast(A, shape= shape, strides= strides)\n",
    "\n",
    "\n",
    "def ssim(img1, img2, C1=0.01**2, C2=0.03**2):\n",
    "\n",
    "    bimg1 = block_view(img1, (4,4))\n",
    "    bimg2 = block_view(img2, (4,4))\n",
    "    s1  = numpy.sum(bimg1, (-1, -2))\n",
    "    s2  = numpy.sum(bimg2, (-1, -2))\n",
    "    ss  = numpy.sum(bimg1*bimg1, (-1, -2)) + numpy.sum(bimg2*bimg2, (-1, -2))\n",
    "    s12 = numpy.sum(bimg1*bimg2, (-1, -2))\n",
    "\n",
    "    vari = ss - s1*s1 - s2*s2\n",
    "    covar = s12 - s1*s2\n",
    "\n",
    "    ssim_map =  (2*s1*s2 + C1) * (2*covar + C2) / ((s1*s1 + s2*s2 + C1) * (vari + C2))\n",
    "    return numpy.mean(ssim_map)\n",
    "\n",
    "# FIXME there seems to be a problem with this code\n",
    "def ssim_exact(img1, img2, sd=1.5, C1=0.01**2, C2=0.03**2):\n",
    "\n",
    "    mu1 = gaussian_filter(img1, sd)\n",
    "    mu2 = gaussian_filter(img2, sd)\n",
    "    mu1_sq = mu1 * mu1\n",
    "    mu2_sq = mu2 * mu2\n",
    "    mu1_mu2 = mu1 * mu2\n",
    "    sigma1_sq = gaussian_filter(img1 * img1, sd) - mu1_sq\n",
    "    sigma2_sq = gaussian_filter(img2 * img2, sd) - mu2_sq\n",
    "    sigma12 = gaussian_filter(img1 * img2, sd) - mu1_mu2\n",
    "\n",
    "    ssim_num = ((2 * mu1_mu2 + C1) * (2 * sigma12 + C2))\n",
    "\n",
    "    ssim_den = ((mu1_sq + mu2_sq + C1) * (sigma1_sq + sigma2_sq + C2))\n",
    "\n",
    "    ssim_map = ssim_num / ssim_den\n",
    "    return numpy.mean(ssim_map)"
   ]
  },
  {
   "cell_type": "code",
   "execution_count": null,
   "metadata": {},
   "outputs": [
    {
     "name": "stderr",
     "output_type": "stream",
     "text": [
      "/usr/local/lib/python3.5/dist-packages/ipykernel_launcher.py:4: DeprecationWarning: `imresize` is deprecated!\n",
      "`imresize` is deprecated in SciPy 1.0.0, and will be removed in 1.2.0.\n",
      "Use ``skimage.transform.resize`` instead.\n",
      "  after removing the cwd from sys.path.\n",
      "/usr/local/lib/python3.5/dist-packages/ipykernel_launcher.py:5: DeprecationWarning: `imresize` is deprecated!\n",
      "`imresize` is deprecated in SciPy 1.0.0, and will be removed in 1.2.0.\n",
      "Use ``skimage.transform.resize`` instead.\n",
      "  \"\"\"\n"
     ]
    },
    {
     "name": "stdout",
     "output_type": "stream",
     "text": [
      "427.9770475447437\n",
      "1825.452799530625\n",
      "1076.792436780297\n",
      "3297.91180227394\n",
      "648.4816682613289\n",
      "366.45456222601786\n",
      "559.4540782213752\n",
      "806.8369401238514\n",
      "1167.2783288519424\n",
      "4502.9683925974905\n",
      "2160.5186485006757\n",
      "267.4420386186358\n",
      "636.5260702057758\n",
      "2942.4869562513495\n",
      "487.93830893207735\n",
      "1178.4343974947083\n",
      "2129.736313991104\n",
      "359.6887004812189\n",
      "5969.561235795632\n",
      "3592.917565602792\n",
      "602.3960596545191\n",
      "1956.7819564916203\n",
      "544.7500815427306\n",
      "941.5351554913386\n",
      "1282.2456927789506\n",
      "1120.9953400908566\n",
      "1713.2814623518525\n",
      "1367.3678778708054\n",
      "473.6939034135731\n",
      "559.4729739892773\n",
      "3387.9153010744817\n",
      "3452.1885720943083\n",
      "4944.203310711565\n",
      "2168.219088816646\n",
      "461.2068996087331\n",
      "377.95411995023125\n",
      "431.77975272500674\n",
      "4204.224562921603\n",
      "846.9719316300974\n",
      "311.49570819470466\n",
      "3807.8355688009237\n",
      "3011.7592134323445\n",
      "3074.6668836557615\n",
      "389.4257349695326\n",
      "677.4360266056798\n",
      "7502.757770266606\n",
      "4207.7523582062895\n",
      "2589.695173042131\n",
      "1198.8908767067537\n",
      "1273.7972697134992\n",
      "996.2302586804163\n",
      "1503.4457016562533\n",
      "1532.290930292934\n",
      "21267.73159226053\n",
      "16976.231687529562\n",
      "268.66662704968684\n",
      "1232.3645542689499\n",
      "188.1032510476348\n",
      "1587.1265410305434\n",
      "1276.7897670506\n"
     ]
    }
   ],
   "source": [
    "data = []\n",
    "for i in range(100):\n",
    "    img1 = cv2.imread(path+'test/frame_real'+str(i)+'.png')\n",
    "    img2 = imresize(img1, (1, 1))\n",
    "    img2 = imresize(img2, (384, 384))\n",
    "    d = ssim_exact(img1/25, img2)\n",
    "    data.append(d)\n",
    "    print(d)"
   ]
  },
  {
   "cell_type": "code",
   "execution_count": null,
   "metadata": {},
   "outputs": [],
   "source": []
  }
 ],
 "metadata": {
  "kernelspec": {
   "display_name": "Python 2",
   "language": "python",
   "name": "python2"
  },
  "language_info": {
   "codemirror_mode": {
    "name": "ipython",
    "version": 3
   },
   "file_extension": ".py",
   "mimetype": "text/x-python",
   "name": "python",
   "nbconvert_exporter": "python",
   "pygments_lexer": "ipython3",
   "version": "3.5.2"
  }
 },
 "nbformat": 4,
 "nbformat_minor": 2
}
