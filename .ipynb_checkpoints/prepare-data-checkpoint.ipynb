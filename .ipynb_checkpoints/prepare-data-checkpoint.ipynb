{
 "cells": [
  {
   "cell_type": "code",
   "execution_count": null,
   "metadata": {},
   "outputs": [],
   "source": [
    "import os\n",
    "import cv2\n",
    "import numpy as np"
   ]
  },
  {
   "cell_type": "code",
   "execution_count": null,
   "metadata": {},
   "outputs": [],
   "source": [
    "# load saliency and motion videos and split them into chunks\n",
    "path = '../data/'"
   ]
  },
  {
   "cell_type": "code",
   "execution_count": 83,
   "metadata": {},
   "outputs": [],
   "source": [
    "def extractImages(video):\n",
    "    newdir = path+'images'\n",
    "    if os.path.exists(newdir):\n",
    "        os.system('rm -rf '+newdir)\n",
    "    os.makedirs(newdir)\n",
    "    os.system('ffmpeg -i '+path+video+' -vf fps=30 -s 3840x1920 '+newdir+'/frame%0000d.png')"
   ]
  },
  {
   "cell_type": "code",
   "execution_count": 84,
   "metadata": {},
   "outputs": [],
   "source": [
    "video = path+'RollerCoaster1min.mp4'\n",
    "extractImages(video)"
   ]
  },
  {
   "cell_type": "code",
   "execution_count": 169,
   "metadata": {},
   "outputs": [],
   "source": [
    "def makeNumpyArrayInputs(totalImages):\n",
    "    frame_no = 1\n",
    "    for imageName in totalImages:\n",
    "        windowsize_r = 192\n",
    "        windowsize_c = 192\n",
    "        tile_no = 1\n",
    "        tiles = []\n",
    "        image = path+'images/'+imageName\n",
    "        image = cv2.imread(image)\n",
    "        for r in range(0,image.shape[0], windowsize_r):\n",
    "            for c in range(0,image.shape[1], windowsize_c):\n",
    "                window = image[r:r+windowsize_r,c:c+windowsize_c]\n",
    "                tsegs = []\n",
    "                for x in range(windowsize_r):\n",
    "                    temp = np.append(window[x], np.ones((192,1))*tile_no, axis=1)\n",
    "                    temp2 = np.append(temp, np.ones((192,1))*frame_no, axis=1)\n",
    "                    tsegs.append(temp2)\n",
    "                tiles.append(tsegs)\n",
    "                tile_no += 1\n",
    "        tiles = np.array(tiles)\n",
    "        arrayName = path+'nparrs/'+imageName[:-4]+'.npy'\n",
    "        np.save(arrayName, tiles)\n",
    "        frame_no += 1\n",
    "        print(frame_no)"
   ]
  },
  {
   "cell_type": "code",
   "execution_count": 170,
   "metadata": {},
   "outputs": [
    {
     "name": "stdout",
     "output_type": "stream",
     "text": [
      "2\n",
      "2\n",
      "2\n",
      "2\n",
      "2\n",
      "2\n",
      "2\n",
      "2\n",
      "2\n",
      "2\n"
     ]
    },
    {
     "ename": "KeyboardInterrupt",
     "evalue": "",
     "output_type": "error",
     "traceback": [
      "\u001b[0;31m---------------------------------------------------------------------------\u001b[0m",
      "\u001b[0;31mKeyboardInterrupt\u001b[0m                         Traceback (most recent call last)",
      "\u001b[0;32m<ipython-input-170-eae8f42f0176>\u001b[0m in \u001b[0;36m<module>\u001b[0;34m\u001b[0m\n\u001b[1;32m      1\u001b[0m \u001b[0mimages\u001b[0m \u001b[0;34m=\u001b[0m \u001b[0mos\u001b[0m\u001b[0;34m.\u001b[0m\u001b[0mlistdir\u001b[0m\u001b[0;34m(\u001b[0m\u001b[0mpath\u001b[0m\u001b[0;34m+\u001b[0m\u001b[0;34m'images'\u001b[0m\u001b[0;34m)\u001b[0m\u001b[0;34m\u001b[0m\u001b[0m\n\u001b[0;32m----> 2\u001b[0;31m \u001b[0mmakeNumpyArrayInputs\u001b[0m\u001b[0;34m(\u001b[0m\u001b[0mimages\u001b[0m\u001b[0;34m)\u001b[0m\u001b[0;34m\u001b[0m\u001b[0m\n\u001b[0m",
      "\u001b[0;32m<ipython-input-169-ce874619ee18>\u001b[0m in \u001b[0;36mmakeNumpyArrayInputs\u001b[0;34m(totalImages)\u001b[0m\n\u001b[1;32m     13\u001b[0m                 \u001b[0mtsegs\u001b[0m \u001b[0;34m=\u001b[0m \u001b[0;34m[\u001b[0m\u001b[0;34m]\u001b[0m\u001b[0;34m\u001b[0m\u001b[0m\n\u001b[1;32m     14\u001b[0m                 \u001b[0;32mfor\u001b[0m \u001b[0mx\u001b[0m \u001b[0;32min\u001b[0m \u001b[0mrange\u001b[0m\u001b[0;34m(\u001b[0m\u001b[0mwindowsize_r\u001b[0m\u001b[0;34m)\u001b[0m\u001b[0;34m:\u001b[0m\u001b[0;34m\u001b[0m\u001b[0m\n\u001b[0;32m---> 15\u001b[0;31m                     \u001b[0mtemp\u001b[0m \u001b[0;34m=\u001b[0m \u001b[0mnp\u001b[0m\u001b[0;34m.\u001b[0m\u001b[0mappend\u001b[0m\u001b[0;34m(\u001b[0m\u001b[0mwindow\u001b[0m\u001b[0;34m[\u001b[0m\u001b[0mx\u001b[0m\u001b[0;34m]\u001b[0m\u001b[0;34m,\u001b[0m \u001b[0mnp\u001b[0m\u001b[0;34m.\u001b[0m\u001b[0mones\u001b[0m\u001b[0;34m(\u001b[0m\u001b[0;34m(\u001b[0m\u001b[0;36m192\u001b[0m\u001b[0;34m,\u001b[0m\u001b[0;36m1\u001b[0m\u001b[0;34m)\u001b[0m\u001b[0;34m)\u001b[0m\u001b[0;34m*\u001b[0m\u001b[0mtile_no\u001b[0m\u001b[0;34m,\u001b[0m \u001b[0maxis\u001b[0m\u001b[0;34m=\u001b[0m\u001b[0;36m1\u001b[0m\u001b[0;34m)\u001b[0m\u001b[0;34m\u001b[0m\u001b[0m\n\u001b[0m\u001b[1;32m     16\u001b[0m                     \u001b[0mtemp2\u001b[0m \u001b[0;34m=\u001b[0m \u001b[0mnp\u001b[0m\u001b[0;34m.\u001b[0m\u001b[0mappend\u001b[0m\u001b[0;34m(\u001b[0m\u001b[0mtemp\u001b[0m\u001b[0;34m,\u001b[0m \u001b[0mnp\u001b[0m\u001b[0;34m.\u001b[0m\u001b[0mones\u001b[0m\u001b[0;34m(\u001b[0m\u001b[0;34m(\u001b[0m\u001b[0;36m192\u001b[0m\u001b[0;34m,\u001b[0m\u001b[0;36m1\u001b[0m\u001b[0;34m)\u001b[0m\u001b[0;34m)\u001b[0m\u001b[0;34m*\u001b[0m\u001b[0mframe_no\u001b[0m\u001b[0;34m,\u001b[0m \u001b[0maxis\u001b[0m\u001b[0;34m=\u001b[0m\u001b[0;36m1\u001b[0m\u001b[0;34m)\u001b[0m\u001b[0;34m\u001b[0m\u001b[0m\n\u001b[1;32m     17\u001b[0m                     \u001b[0mtsegs\u001b[0m\u001b[0;34m.\u001b[0m\u001b[0mappend\u001b[0m\u001b[0;34m(\u001b[0m\u001b[0mtemp2\u001b[0m\u001b[0;34m)\u001b[0m\u001b[0;34m\u001b[0m\u001b[0m\n",
      "\u001b[0;32m/usr/local/lib/python3.5/dist-packages/numpy/core/numeric.py\u001b[0m in \u001b[0;36mones\u001b[0;34m(shape, dtype, order)\u001b[0m\n\u001b[1;32m    202\u001b[0m     \"\"\"\n\u001b[1;32m    203\u001b[0m     \u001b[0ma\u001b[0m \u001b[0;34m=\u001b[0m \u001b[0mempty\u001b[0m\u001b[0;34m(\u001b[0m\u001b[0mshape\u001b[0m\u001b[0;34m,\u001b[0m \u001b[0mdtype\u001b[0m\u001b[0;34m,\u001b[0m \u001b[0morder\u001b[0m\u001b[0;34m)\u001b[0m\u001b[0;34m\u001b[0m\u001b[0m\n\u001b[0;32m--> 204\u001b[0;31m     \u001b[0mmultiarray\u001b[0m\u001b[0;34m.\u001b[0m\u001b[0mcopyto\u001b[0m\u001b[0;34m(\u001b[0m\u001b[0ma\u001b[0m\u001b[0;34m,\u001b[0m \u001b[0;36m1\u001b[0m\u001b[0;34m,\u001b[0m \u001b[0mcasting\u001b[0m\u001b[0;34m=\u001b[0m\u001b[0;34m'unsafe'\u001b[0m\u001b[0;34m)\u001b[0m\u001b[0;34m\u001b[0m\u001b[0m\n\u001b[0m\u001b[1;32m    205\u001b[0m     \u001b[0;32mreturn\u001b[0m \u001b[0ma\u001b[0m\u001b[0;34m\u001b[0m\u001b[0m\n\u001b[1;32m    206\u001b[0m \u001b[0;34m\u001b[0m\u001b[0m\n",
      "\u001b[0;31mKeyboardInterrupt\u001b[0m: "
     ]
    }
   ],
   "source": [
    "images = os.listdir(path+'images')\n",
    "makeNumpyArrayInputs(images)"
   ]
  },
  {
   "cell_type": "code",
   "execution_count": 160,
   "metadata": {},
   "outputs": [
    {
     "name": "stdout",
     "output_type": "stream",
     "text": [
      "(1920, 3840, 3)\n",
      "(200, 192, 192, 5)\n"
     ]
    }
   ],
   "source": [
    "image = cv2.imread('../data/images/frame1.png')\n",
    "frame_no = 1\n",
    "print(image.shape)\n",
    "windowsize_r = 192\n",
    "windowsize_c = 192\n",
    "tile_no = 1\n",
    "tiles = []\n",
    "for r in range(0,image.shape[0], windowsize_r):\n",
    "    for c in range(0,image.shape[1], windowsize_c):\n",
    "        window = image[r:r+windowsize_r,c:c+windowsize_c]\n",
    "        tsegs = []\n",
    "        for x in range(windowsize_r):\n",
    "            temp = np.append(window[x], np.ones((192,1))*tile_no, axis=1)\n",
    "            temp2 = np.append(temp, np.ones((192,1))*frame_no, axis=1)\n",
    "            tsegs.append(temp2)\n",
    "        tiles.append(tsegs)\n",
    "        tile_no += 1\n",
    "tiles = np.array(tiles)\n",
    "print(tiles.shape)"
   ]
  },
  {
   "cell_type": "code",
   "execution_count": 161,
   "metadata": {},
   "outputs": [
    {
     "name": "stdout",
     "output_type": "stream",
     "text": [
      "[[[ 54.  46. 151. 200.   1.]\n",
      "  [ 54.  46. 151. 200.   1.]\n",
      "  [ 54.  46. 151. 200.   1.]\n",
      "  ...\n",
      "  [240. 238. 247. 200.   1.]\n",
      "  [235. 232. 242. 200.   1.]\n",
      "  [231. 229. 238. 200.   1.]]\n",
      "\n",
      " [[ 55.  47. 152. 200.   1.]\n",
      "  [ 55.  47. 152. 200.   1.]\n",
      "  [ 55.  47. 152. 200.   1.]\n",
      "  ...\n",
      "  [247. 245. 254. 200.   1.]\n",
      "  [247. 245. 254. 200.   1.]\n",
      "  [249. 246. 255. 200.   1.]]\n",
      "\n",
      " [[ 55.  47. 152. 200.   1.]\n",
      "  [ 55.  47. 152. 200.   1.]\n",
      "  [ 55.  47. 152. 200.   1.]\n",
      "  ...\n",
      "  [250. 250. 255. 200.   1.]\n",
      "  [250. 250. 255. 200.   1.]\n",
      "  [250. 250. 255. 200.   1.]]\n",
      "\n",
      " ...\n",
      "\n",
      " [[224. 231. 244. 200.   1.]\n",
      "  [224. 231. 244. 200.   1.]\n",
      "  [224. 231. 245. 200.   1.]\n",
      "  ...\n",
      "  [225. 232. 246. 200.   1.]\n",
      "  [225. 232. 246. 200.   1.]\n",
      "  [225. 232. 246. 200.   1.]]\n",
      "\n",
      " [[225. 230. 254. 200.   1.]\n",
      "  [225. 230. 254. 200.   1.]\n",
      "  [225. 229. 255. 200.   1.]\n",
      "  ...\n",
      "  [226. 230. 255. 200.   1.]\n",
      "  [226. 230. 255. 200.   1.]\n",
      "  [226. 230. 255. 200.   1.]]\n",
      "\n",
      " [[225. 229. 255. 200.   1.]\n",
      "  [225. 229. 255. 200.   1.]\n",
      "  [225. 228. 255. 200.   1.]\n",
      "  ...\n",
      "  [226. 229. 255. 200.   1.]\n",
      "  [226. 229. 255. 200.   1.]\n",
      "  [226. 229. 255. 200.   1.]]]\n"
     ]
    }
   ],
   "source": [
    "print(tiles[199])"
   ]
  },
  {
   "cell_type": "code",
   "execution_count": null,
   "metadata": {},
   "outputs": [],
   "source": [
    "images = 1800\n",
    "numpyArrays(images, 24)"
   ]
  },
  {
   "cell_type": "code",
   "execution_count": null,
   "metadata": {},
   "outputs": [],
   "source": []
  }
 ],
 "metadata": {
  "kernelspec": {
   "display_name": "Python 2",
   "language": "python",
   "name": "python2"
  },
  "language_info": {
   "codemirror_mode": {
    "name": "ipython",
    "version": 3
   },
   "file_extension": ".py",
   "mimetype": "text/x-python",
   "name": "python",
   "nbconvert_exporter": "python",
   "pygments_lexer": "ipython3",
   "version": "3.5.2"
  }
 },
 "nbformat": 4,
 "nbformat_minor": 2
}
