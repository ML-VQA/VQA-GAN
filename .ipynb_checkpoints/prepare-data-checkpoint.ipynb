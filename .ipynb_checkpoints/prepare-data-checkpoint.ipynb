{
 "cells": [
  {
   "cell_type": "code",
   "execution_count": null,
   "metadata": {},
   "outputs": [],
   "source": [
    "import os\n",
    "import cv2\n",
    "import numpy as np\n",
    "import matplotlib.pyplot as plt\n",
    "\n",
    "from __future__ import print_function, division\n",
    "\n",
    "from keras.datasets import mnist\n",
    "from keras.layers import Input, Dense, Reshape, Flatten, Dropout, multiply, GlobalAveragePooling2D\n",
    "from keras.layers import BatchNormalization, Activation, Embedding, ZeroPadding2D\n",
    "from keras.layers.advanced_activations import LeakyReLU\n",
    "from keras.layers.convolutional import UpSampling2D, Conv2D\n",
    "from keras.models import Sequential, Model\n",
    "from keras.optimizers import Adam\n",
    "\n",
    "import matplotlib.pyplot as plt\n",
    "\n",
    "import numpy as np\n",
    "from scipy.misc import imread\n",
    "from scipy.misc import imresize\n",
    "from scipy.misc import imsave\n",
    "import glob\n",
    "import random\n",
    "\n",
    "from keras.preprocessing.image import ImageDataGenerator\n",
    "from keras import applications\n",
    "from keras.optimizers import SGD\n",
    "from keras.callbacks import ModelCheckpoint, ReduceLROnPlateau\n",
    "from keras.callbacks import EarlyStopping\n",
    "from keras.utils import to_categorical\n",
    "#from keras.applications.resnet50 import preprocess_input\n",
    "\n",
    "from keras.applications.resnet50 import ResNet50\n",
    "from keras.preprocessing import image\n",
    "from keras.applications.resnet50 import preprocess_input, decode_predictions\n",
    "#from keras.applications.vgg19 import preprocess_input as preprocess_vgg\n",
    "from keras.applications.inception_v3 import preprocess_input as inception_preprocess\n",
    "\n",
    "#from keras.applications.inception_resnet_v2 import preprocess_input\n",
    "\n",
    "import numpy as np\n",
    "\n",
    "import keras\n",
    "import copy"
   ]
  },
  {
   "cell_type": "code",
   "execution_count": null,
   "metadata": {},
   "outputs": [],
   "source": [
    "# load saliency and motion videos and split them into chunks\n",
    "path = '../data/sources/'"
   ]
  },
  {
   "cell_type": "code",
   "execution_count": null,
   "metadata": {},
   "outputs": [],
   "source": [
    "def extractImages(video):\n",
    "    newdir = path+'frames'\n",
    "    if os.path.exists(newdir):\n",
    "        os.system('rm -rf '+newdir)\n",
    "    os.makedirs(newdir)\n",
    "    os.system('ffmpeg -i '+path+video+' -vf fps=30 -s 3840x1920 '+newdir+'/frame%0000d.png')"
   ]
  },
  {
   "cell_type": "code",
   "execution_count": null,
   "metadata": {},
   "outputs": [],
   "source": [
    "video = path+'RollerCoaster1min.mp4'\n",
    "extractImages(video)"
   ]
  },
  {
   "cell_type": "code",
   "execution_count": null,
   "metadata": {},
   "outputs": [],
   "source": [
    "def makeNumpyArrayGroundTruth(totalImages):\n",
    "    frame_no = 1\n",
    "    for imageName in totalImages:\n",
    "        windowsize_r = 384\n",
    "        windowsize_c = 384\n",
    "        tile_no = 1\n",
    "        tiles = []\n",
    "        \n",
    "        image = path+'frames/'+imageName\n",
    "        image = cv2.imread(image)\n",
    "        b,g,r = cv2.split(image)         # get b,g,r\n",
    "        image = cv2.merge([r,g,b])\n",
    "        \n",
    "        for r in range(0,image.shape[0], windowsize_r):\n",
    "            for c in range(0,image.shape[1], windowsize_c):\n",
    "                window = image[r:r+windowsize_r,c:c+windowsize_c]\n",
    "                tiles.append(window)\n",
    "                tile_no += 1\n",
    "        tiles = np.array(tiles)\n",
    "        arrayName = path+'nparrs/'+imageName[:-4]+'.npy'\n",
    "        np.save(arrayName, tiles)\n",
    "        frame_no += 1"
   ]
  },
  {
   "cell_type": "code",
   "execution_count": null,
   "metadata": {},
   "outputs": [],
   "source": [
    "images = os.listdir(path+'frames')\n",
    "makeNumpyArrayGroundTruth(images)"
   ]
  }
 ],
 "metadata": {
  "kernelspec": {
   "display_name": "Python 2",
   "language": "python",
   "name": "python2"
  },
  "language_info": {
   "codemirror_mode": {
    "name": "ipython",
    "version": 2
   },
   "file_extension": ".py",
   "mimetype": "text/x-python",
   "name": "python",
   "nbconvert_exporter": "python",
   "pygments_lexer": "ipython2",
   "version": "2.7.12"
  }
 },
 "nbformat": 4,
 "nbformat_minor": 2
}
