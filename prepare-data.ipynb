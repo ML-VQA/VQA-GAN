{
 "cells": [
  {
   "cell_type": "code",
   "execution_count": null,
   "metadata": {},
   "outputs": [],
   "source": [
    "import os\n",
    "import cv2\n",
    "import numpy as np"
   ]
  },
  {
   "cell_type": "code",
   "execution_count": null,
   "metadata": {},
   "outputs": [],
   "source": [
    "# load saliency and motion videos and split them into chunks\n",
    "path = '../data/'"
   ]
  },
  {
   "cell_type": "code",
   "execution_count": 83,
   "metadata": {},
   "outputs": [],
   "source": [
    "def extractImages(video):\n",
    "    newdir = path+'images'\n",
    "    if os.path.exists(newdir):\n",
    "        os.system('rm -rf '+newdir)\n",
    "    os.makedirs(newdir)\n",
    "    os.system('ffmpeg -i '+path+video+' -vf fps=30 -s 3840x1920 '+newdir+'/frame%0000d.png')"
   ]
  },
  {
   "cell_type": "code",
   "execution_count": 84,
   "metadata": {},
   "outputs": [],
   "source": [
    "video = path+'RollerCoaster1min.mp4'\n",
    "extractImages(video)"
   ]
  },
  {
   "cell_type": "code",
   "execution_count": null,
   "metadata": {},
   "outputs": [],
   "source": [
    "def makeNumpyArrayInputs(totalImages):\n",
    "    for image in totalImages:\n",
    "        frame_no = 1\n",
    "        windowsize_r = 192\n",
    "        windowsize_c = 192\n",
    "        tile_no = 1\n",
    "        tiles = []\n",
    "        for r in range(0,image.shape[0], windowsize_r):\n",
    "            for c in range(0,image.shape[1], windowsize_c):\n",
    "                window = image[r:r+windowsize_r,c:c+windowsize_c]\n",
    "                tsegs = []\n",
    "                for x in range(windowsize_r):\n",
    "                    temp = np.append(window[x], np.ones((192,1))*tile_no, axis=1)\n",
    "                    temp2 = np.append(temp, np.ones((192,1))*frame_no, axis=1)\n",
    "                    tsegs.append(temp2)\n",
    "                tiles.append(tsegs)\n",
    "                tile_no += 1\n",
    "        tiles = np.array(tiles)\n",
    "        frame_no += 1"
   ]
  },
  {
   "cell_type": "code",
   "execution_count": null,
   "metadata": {},
   "outputs": [],
   "source": [
    "def numpyArrays(totalImages, numTiles):\n",
    "    for imageIdx in range(1, totalImages+1, 30):\n",
    "        for i in range(imageIdx, imageIdx+30):\n",
    "            image = path+'images/frame'+str(i)+'.png'\n",
    "            image = cv2.imread(image)\n",
    "    print(np.array(image.shape))"
   ]
  },
  {
   "cell_type": "code",
   "execution_count": 160,
   "metadata": {},
   "outputs": [
    {
     "name": "stdout",
     "output_type": "stream",
     "text": [
      "(1920, 3840, 3)\n",
      "(200, 192, 192, 5)\n"
     ]
    }
   ],
   "source": [
    "image = cv2.imread('../data/images/frame1.png')\n",
    "frame_no = 1\n",
    "print(image.shape)\n",
    "windowsize_r = 192\n",
    "windowsize_c = 192\n",
    "tile_no = 1\n",
    "tiles = []\n",
    "for r in range(0,image.shape[0], windowsize_r):\n",
    "    for c in range(0,image.shape[1], windowsize_c):\n",
    "        window = image[r:r+windowsize_r,c:c+windowsize_c]\n",
    "        tsegs = []\n",
    "        for x in range(windowsize_r):\n",
    "            temp = np.append(window[x], np.ones((192,1))*tile_no, axis=1)\n",
    "            temp2 = np.append(temp, np.ones((192,1))*frame_no, axis=1)\n",
    "            tsegs.append(temp2)\n",
    "        tiles.append(tsegs)\n",
    "        tile_no += 1\n",
    "tiles = np.array(tiles)\n",
    "print(tiles.shape)"
   ]
  },
  {
   "cell_type": "code",
   "execution_count": 161,
   "metadata": {},
   "outputs": [
    {
     "name": "stdout",
     "output_type": "stream",
     "text": [
      "[[[ 54.  46. 151. 200.   1.]\n",
      "  [ 54.  46. 151. 200.   1.]\n",
      "  [ 54.  46. 151. 200.   1.]\n",
      "  ...\n",
      "  [240. 238. 247. 200.   1.]\n",
      "  [235. 232. 242. 200.   1.]\n",
      "  [231. 229. 238. 200.   1.]]\n",
      "\n",
      " [[ 55.  47. 152. 200.   1.]\n",
      "  [ 55.  47. 152. 200.   1.]\n",
      "  [ 55.  47. 152. 200.   1.]\n",
      "  ...\n",
      "  [247. 245. 254. 200.   1.]\n",
      "  [247. 245. 254. 200.   1.]\n",
      "  [249. 246. 255. 200.   1.]]\n",
      "\n",
      " [[ 55.  47. 152. 200.   1.]\n",
      "  [ 55.  47. 152. 200.   1.]\n",
      "  [ 55.  47. 152. 200.   1.]\n",
      "  ...\n",
      "  [250. 250. 255. 200.   1.]\n",
      "  [250. 250. 255. 200.   1.]\n",
      "  [250. 250. 255. 200.   1.]]\n",
      "\n",
      " ...\n",
      "\n",
      " [[224. 231. 244. 200.   1.]\n",
      "  [224. 231. 244. 200.   1.]\n",
      "  [224. 231. 245. 200.   1.]\n",
      "  ...\n",
      "  [225. 232. 246. 200.   1.]\n",
      "  [225. 232. 246. 200.   1.]\n",
      "  [225. 232. 246. 200.   1.]]\n",
      "\n",
      " [[225. 230. 254. 200.   1.]\n",
      "  [225. 230. 254. 200.   1.]\n",
      "  [225. 229. 255. 200.   1.]\n",
      "  ...\n",
      "  [226. 230. 255. 200.   1.]\n",
      "  [226. 230. 255. 200.   1.]\n",
      "  [226. 230. 255. 200.   1.]]\n",
      "\n",
      " [[225. 229. 255. 200.   1.]\n",
      "  [225. 229. 255. 200.   1.]\n",
      "  [225. 228. 255. 200.   1.]\n",
      "  ...\n",
      "  [226. 229. 255. 200.   1.]\n",
      "  [226. 229. 255. 200.   1.]\n",
      "  [226. 229. 255. 200.   1.]]]\n"
     ]
    }
   ],
   "source": [
    "print(tiles[199])"
   ]
  },
  {
   "cell_type": "code",
   "execution_count": null,
   "metadata": {},
   "outputs": [],
   "source": [
    "images = 1800\n",
    "numpyArrays(images, 24)"
   ]
  },
  {
   "cell_type": "code",
   "execution_count": null,
   "metadata": {},
   "outputs": [],
   "source": []
  }
 ],
 "metadata": {
  "kernelspec": {
   "display_name": "Python 2",
   "language": "python",
   "name": "python2"
  },
  "language_info": {
   "codemirror_mode": {
    "name": "ipython",
    "version": 3
   },
   "file_extension": ".py",
   "mimetype": "text/x-python",
   "name": "python",
   "nbconvert_exporter": "python",
   "pygments_lexer": "ipython3",
   "version": "3.5.2"
  }
 },
 "nbformat": 4,
 "nbformat_minor": 2
}
