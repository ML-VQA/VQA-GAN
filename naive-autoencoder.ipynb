{
 "cells": [
  {
   "cell_type": "markdown",
   "metadata": {},
   "source": [
    "# Autoencoders\n",
    "\n",
    "I've been exploring how useful [autoencoders](https://en.wikipedia.org/wiki/Autoencoder) are and how painfully simple they are to implement in [Keras](https://keras.io/). In this post, my goal is to better understand them myself, so I borrow heavily from [the Keras blog](https://blog.keras.io/building-autoencoders-in-keras.html) on the same topic. So rather than sprinkling references to the Keras blog throughout the post, just assume I borrowed it from [Francois Chollet](https://twitter.com/fchollet). Thanks to Francois for making his code available!\n",
    "\n",
    "For instance, I thought about drawing a diagram overviewing autoencoders, but it's hard to beat the effective simplicity of this diagram.\n",
    "\n",
    "![stole from Keras blog](https://blog.keras.io/img/ae/autoencoder_schema.jpg)\n",
    "\n",
    "So, autoencoders are legit. They perform data compression but not in the JPEG or MPEG way, which make some broad assumptions about images, sound, and video and apply compression based on the assumptions. Instead, autoencoders **learn** (automatically) a lossy compression based on the data examples fed in. So the compression is specific to those examples.\n",
    "\n",
    "## What's Required\n",
    "\n",
    "Autoencoders require 3 things:\n",
    "\n",
    "1. Encoding function\n",
    "2. Decoding function\n",
    "3. Loss function describing the amount of information loss between the compressed and decompressed representations of the data examples and the decompressed representation (i.e. a \"loss\" function).\n",
    "\n",
    "The encoding/decoding functions are typically (parametric) neural nets and are differentiable with respect to the distance function. The differentiable part enables optimizing the parameters of the encoding/decoding functions to minimize the reconstruction loss.\n",
    "\n",
    "## What Are They Good For\n",
    "\n",
    "1. Data Denoising\n",
    "2. Dimension Reduction\n",
    "3. Data Visualization (basically the same as 2, but plots)\n",
    "\n",
    "For data denoising, think PCA, but nonlinear. In fact, if the encoder/decoder functions are linear, the result spans the space of the PCA solution. The nonlinear part is useful because they can capture, for example, multimodality in the feature space, which PCA can't.\n",
    "\n",
    "Dimension reduction is a direct result of the lossy compression of the algorithm. It can help with denoising and **pre-training** before building another ML algorithm. But is the compression good enough to replace JPEG or MPEG? Possibly. Check out [this post](https://hackernoon.com/using-ai-to-super-compress-images-5a948cf09489) based on [a recent paper](https://arxiv.org/abs/1708.00838).\n",
    "\n",
    "But this post is not about the cutting edge stuff. Instead, we're going to focus on more of the basics and do the following:\n",
    "\n",
    "* Simple Autoencoder\n",
    "* Deep Autoencoder\n",
    "* Convolution Autoencoder\n",
    "* Build a Second Convolution Autoencoder to Denoise Images"
   ]
  },
  {
   "cell_type": "markdown",
   "metadata": {},
   "source": [
    "# Data Loading and Preprocessing\n",
    "\n",
    "For this post, I'm going to use the [MNIST data set](http://yann.lecun.com/exdb/mnist/). To get started, let's start with the boilerplate imports."
   ]
  },
  {
   "cell_type": "code",
   "execution_count": 3,
   "metadata": {},
   "outputs": [],
   "source": [
    "from IPython.display import Image, SVG\n",
    "import matplotlib.pyplot as plt\n",
    "\n",
    "%matplotlib inline\n",
    "\n",
    "import numpy as np\n",
    "import keras\n",
    "from keras.datasets import mnist\n",
    "from keras.models import Model, Sequential\n",
    "from keras.layers import Input, Dense, Conv2D, MaxPooling2D, UpSampling2D, Flatten, Reshape\n",
    "from keras import regularizers"
   ]
  },
  {
   "cell_type": "markdown",
   "metadata": {
    "collapsed": true
   },
   "source": [
    "With that out of the way, let's load the MNIST data set and scale the images to a range between 0 and 1. If you haven't already downloaded the data set, the Keras `load_data` function will download the data directly from S3 on AWS."
   ]
  },
  {
   "cell_type": "code",
   "execution_count": 4,
   "metadata": {},
   "outputs": [
    {
     "name": "stdout",
     "output_type": "stream",
     "text": [
      "Downloading data from https://s3.amazonaws.com/img-datasets/mnist.npz\n",
      "11493376/11490434 [==============================] - 0s 0us/step\n"
     ]
    }
   ],
   "source": [
    "# Loads the training and test data sets (ignoring class labels)\n",
    "(x_train, _), (x_test, _) = mnist.load_data()\n",
    "\n",
    "# Scales the training and test data to range between 0 and 1.\n",
    "max_value = float(x_train.max())\n",
    "x_train = x_train.astype('float32') / max_value\n",
    "x_test = x_test.astype('float32') / max_value"
   ]
  },
  {
   "cell_type": "markdown",
   "metadata": {},
   "source": [
    "The data set consists 3D arrays with 60K training and 10K test images. The images have a resolution of 28 x 28 (pixels)."
   ]
  },
  {
   "cell_type": "code",
   "execution_count": 5,
   "metadata": {},
   "outputs": [
    {
     "data": {
      "text/plain": [
       "((60000, 28, 28), (10000, 28, 28))"
      ]
     },
     "execution_count": 5,
     "metadata": {},
     "output_type": "execute_result"
    }
   ],
   "source": [
    "x_train.shape, x_test.shape"
   ]
  },
  {
   "cell_type": "markdown",
   "metadata": {},
   "source": [
    "To work with the images as vectors, let's reshape the 3D arrays as matrices. In doing so, we'll reshape the 28 x 28 images into vectors of length 784"
   ]
  },
  {
   "cell_type": "code",
   "execution_count": 6,
   "metadata": {},
   "outputs": [
    {
     "data": {
      "text/plain": [
       "((60000, 784), (10000, 784))"
      ]
     },
     "execution_count": 6,
     "metadata": {},
     "output_type": "execute_result"
    }
   ],
   "source": [
    "x_train = x_train.reshape((len(x_train), np.prod(x_train.shape[1:])))\n",
    "x_test = x_test.reshape((len(x_test), np.prod(x_test.shape[1:])))\n",
    "\n",
    "(x_train.shape, x_test.shape)"
   ]
  },
  {
   "cell_type": "markdown",
   "metadata": {},
   "source": [
    "***\n",
    "\n",
    "# Simple Autoencoder\n",
    "\n",
    "Let's start with a simple autoencoder for illustration. The encoder and decoder functions are each fully-connected neural layers. The encoder function uses a [ReLU activation function](https://en.wikipedia.org/wiki/Rectifier_(neural_networks)), while the decoder function uses a [sigmoid activation function](https://en.wikipedia.org/wiki/Activation_function#Comparison_of_activation_functions).\n",
    "\n",
    "So what are the encoder and the decoder layers doing?\n",
    "\n",
    "* The encoder layer \"encodes\" the input image as a compressed representation in a reduced dimension. The compressed image typically looks garbled, nothing like the original image.\n",
    "* The decoder layer \"decodes\" the encoded image back to the original dimension. The decoded image is a [lossy reconstruction](https://en.wikipedia.org/wiki/Lossy_compression) of the original image.\n",
    "\n",
    "In our example, the compressed image has a dimension of 32. The encoder model reduces the dimension from the original 784-dimensional vector to the encoded 32-dimensional vector. The decoder model restores the dimension from the encoded 32-dimensional representation back to the original 784-dimensional vector.\n",
    "\n",
    "The compression factor is the ratio of the input dimension to the encoded dimension. In our case, the factor is `24.5 = 784 / 32`.\n",
    "\n",
    "The `autoencoder` model maps an input image to its reconstructed image."
   ]
  },
  {
   "cell_type": "code",
   "execution_count": 7,
   "metadata": {},
   "outputs": [
    {
     "name": "stdout",
     "output_type": "stream",
     "text": [
      "Compression factor: 24.5\n",
      "_________________________________________________________________\n",
      "Layer (type)                 Output Shape              Param #   \n",
      "=================================================================\n",
      "dense_1 (Dense)              (None, 32)                25120     \n",
      "_________________________________________________________________\n",
      "dense_2 (Dense)              (None, 784)               25872     \n",
      "=================================================================\n",
      "Total params: 50,992\n",
      "Trainable params: 50,992\n",
      "Non-trainable params: 0\n",
      "_________________________________________________________________\n"
     ]
    }
   ],
   "source": [
    "# input dimension = 784\n",
    "input_dim = x_train.shape[1]\n",
    "encoding_dim = 32\n",
    "\n",
    "compression_factor = float(input_dim) / encoding_dim\n",
    "print(\"Compression factor: %s\" % compression_factor)\n",
    "\n",
    "autoencoder = Sequential()\n",
    "autoencoder.add(\n",
    "    Dense(encoding_dim, input_shape=(input_dim,), activation='relu')\n",
    ")\n",
    "autoencoder.add(\n",
    "    Dense(input_dim, activation='sigmoid')\n",
    ")\n",
    "\n",
    "autoencoder.summary()"
   ]
  },
  {
   "cell_type": "markdown",
   "metadata": {},
   "source": [
    "## Encoder Model\n",
    "\n",
    "We can extract the encoder model from the first layer of the autoencoder model. The reason we want to extract the encoder model is to examine what an encoded image looks like."
   ]
  },
  {
   "cell_type": "code",
   "execution_count": 8,
   "metadata": {},
   "outputs": [
    {
     "name": "stdout",
     "output_type": "stream",
     "text": [
      "_________________________________________________________________\n",
      "Layer (type)                 Output Shape              Param #   \n",
      "=================================================================\n",
      "input_1 (InputLayer)         (None, 784)               0         \n",
      "_________________________________________________________________\n",
      "dense_1 (Dense)              (None, 32)                25120     \n",
      "=================================================================\n",
      "Total params: 25,120\n",
      "Trainable params: 25,120\n",
      "Non-trainable params: 0\n",
      "_________________________________________________________________\n"
     ]
    }
   ],
   "source": [
    "input_img = Input(shape=(input_dim,))\n",
    "encoder_layer = autoencoder.layers[0]\n",
    "encoder = Model(input_img, encoder_layer(input_img))\n",
    "\n",
    "encoder.summary()"
   ]
  },
  {
   "cell_type": "markdown",
   "metadata": {},
   "source": [
    "Okay, now we're ready to train our first autoencoder. We'll iterate on the training data in batches of 256 in 50 epochs. Let's also use [the Adam optimizer](https://arxiv.org/abs/1412.6980) and per-pixel binary [crossentropy](https://en.wikipedia.org/wiki/Cross_entropy) loss. The purpose of the loss function is to reconstruct an image similar to the input image.\n",
    "\n",
    "I want to call out something that may look like a typo or may not be obvious at first glance. Notice the repeat of `x_train` in `autoencoder.fit(x_train, x_train, ...)`. This implies that `x_train` is both the input and output, which is exactly what we want for image reconstruction.\n",
    "\n",
    "I'm running this code on a laptop, so you'll notice the training times are a bit slow (no GPU)."
   ]
  },
  {
   "cell_type": "code",
   "execution_count": 9,
   "metadata": {},
   "outputs": [
    {
     "name": "stdout",
     "output_type": "stream",
     "text": [
      "Train on 60000 samples, validate on 10000 samples\n",
      "Epoch 1/50\n",
      "60000/60000 [==============================] - 5s 79us/step - loss: 0.2796 - val_loss: 0.1905\n",
      "Epoch 2/50\n",
      "60000/60000 [==============================] - 2s 26us/step - loss: 0.1716 - val_loss: 0.1540\n",
      "Epoch 3/50\n",
      "60000/60000 [==============================] - 2s 26us/step - loss: 0.1448 - val_loss: 0.1342\n",
      "Epoch 4/50\n",
      "60000/60000 [==============================] - 2s 26us/step - loss: 0.1292 - val_loss: 0.1220\n",
      "Epoch 5/50\n",
      "60000/60000 [==============================] - 2s 26us/step - loss: 0.1188 - val_loss: 0.1132\n",
      "Epoch 6/50\n",
      "60000/60000 [==============================] - 2s 26us/step - loss: 0.1115 - val_loss: 0.1071\n",
      "Epoch 7/50\n",
      "60000/60000 [==============================] - 2s 26us/step - loss: 0.1062 - val_loss: 0.1026\n",
      "Epoch 8/50\n",
      "60000/60000 [==============================] - 2s 27us/step - loss: 0.1023 - val_loss: 0.0994\n",
      "Epoch 9/50\n",
      "60000/60000 [==============================] - 2s 29us/step - loss: 0.0995 - val_loss: 0.0970\n",
      "Epoch 10/50\n",
      "60000/60000 [==============================] - 2s 29us/step - loss: 0.0976 - val_loss: 0.0956\n",
      "Epoch 11/50\n",
      "60000/60000 [==============================] - 2s 29us/step - loss: 0.0963 - val_loss: 0.0946\n",
      "Epoch 12/50\n",
      "60000/60000 [==============================] - 2s 29us/step - loss: 0.0954 - val_loss: 0.0939\n",
      "Epoch 13/50\n",
      "60000/60000 [==============================] - 2s 29us/step - loss: 0.0949 - val_loss: 0.0933\n",
      "Epoch 14/50\n",
      "60000/60000 [==============================] - 2s 29us/step - loss: 0.0945 - val_loss: 0.0931\n",
      "Epoch 15/50\n",
      "60000/60000 [==============================] - 2s 29us/step - loss: 0.0942 - val_loss: 0.0928\n",
      "Epoch 16/50\n",
      "60000/60000 [==============================] - 2s 27us/step - loss: 0.0940 - val_loss: 0.0926\n",
      "Epoch 17/50\n",
      "60000/60000 [==============================] - 2s 28us/step - loss: 0.0938 - val_loss: 0.0925\n",
      "Epoch 18/50\n",
      "60000/60000 [==============================] - 2s 28us/step - loss: 0.0937 - val_loss: 0.0923\n",
      "Epoch 19/50\n",
      "60000/60000 [==============================] - 2s 29us/step - loss: 0.0935 - val_loss: 0.0923\n",
      "Epoch 20/50\n",
      "60000/60000 [==============================] - 2s 27us/step - loss: 0.0935 - val_loss: 0.0922\n",
      "Epoch 21/50\n",
      "60000/60000 [==============================] - 2s 28us/step - loss: 0.0933 - val_loss: 0.0921\n",
      "Epoch 22/50\n",
      "60000/60000 [==============================] - 2s 29us/step - loss: 0.0933 - val_loss: 0.0920\n",
      "Epoch 23/50\n",
      "60000/60000 [==============================] - 2s 29us/step - loss: 0.0932 - val_loss: 0.0920\n",
      "Epoch 24/50\n",
      "60000/60000 [==============================] - 2s 29us/step - loss: 0.0932 - val_loss: 0.0919\n",
      "Epoch 25/50\n",
      "60000/60000 [==============================] - 2s 28us/step - loss: 0.0931 - val_loss: 0.0918\n",
      "Epoch 26/50\n",
      "60000/60000 [==============================] - 2s 27us/step - loss: 0.0931 - val_loss: 0.0918\n",
      "Epoch 27/50\n",
      "60000/60000 [==============================] - 2s 26us/step - loss: 0.0930 - val_loss: 0.0918\n",
      "Epoch 28/50\n",
      "60000/60000 [==============================] - 2s 29us/step - loss: 0.0930 - val_loss: 0.0918\n",
      "Epoch 29/50\n",
      "60000/60000 [==============================] - 2s 26us/step - loss: 0.0930 - val_loss: 0.0920\n",
      "Epoch 30/50\n",
      "60000/60000 [==============================] - 2s 27us/step - loss: 0.0929 - val_loss: 0.0917\n",
      "Epoch 31/50\n",
      "60000/60000 [==============================] - 2s 27us/step - loss: 0.0929 - val_loss: 0.0918\n",
      "Epoch 32/50\n",
      "60000/60000 [==============================] - 2s 26us/step - loss: 0.0929 - val_loss: 0.0917\n",
      "Epoch 33/50\n",
      "60000/60000 [==============================] - 2s 26us/step - loss: 0.0929 - val_loss: 0.0916\n",
      "Epoch 34/50\n",
      "60000/60000 [==============================] - 2s 26us/step - loss: 0.0928 - val_loss: 0.0916\n",
      "Epoch 35/50\n",
      "60000/60000 [==============================] - 2s 26us/step - loss: 0.0928 - val_loss: 0.0916\n",
      "Epoch 36/50\n",
      "60000/60000 [==============================] - 2s 26us/step - loss: 0.0928 - val_loss: 0.0916\n",
      "Epoch 37/50\n",
      "60000/60000 [==============================] - 2s 27us/step - loss: 0.0928 - val_loss: 0.0917\n",
      "Epoch 38/50\n",
      "60000/60000 [==============================] - 2s 27us/step - loss: 0.0928 - val_loss: 0.0916\n",
      "Epoch 39/50\n",
      "60000/60000 [==============================] - 2s 28us/step - loss: 0.0927 - val_loss: 0.0916\n",
      "Epoch 40/50\n",
      "60000/60000 [==============================] - 2s 27us/step - loss: 0.0927 - val_loss: 0.0915\n",
      "Epoch 41/50\n",
      "60000/60000 [==============================] - 2s 27us/step - loss: 0.0927 - val_loss: 0.0915\n",
      "Epoch 42/50\n",
      "60000/60000 [==============================] - 2s 26us/step - loss: 0.0927 - val_loss: 0.0915\n",
      "Epoch 43/50\n",
      "60000/60000 [==============================] - 2s 26us/step - loss: 0.0927 - val_loss: 0.0916\n",
      "Epoch 44/50\n",
      "60000/60000 [==============================] - 2s 27us/step - loss: 0.0927 - val_loss: 0.0915\n",
      "Epoch 45/50\n",
      "60000/60000 [==============================] - 2s 26us/step - loss: 0.0927 - val_loss: 0.0915\n",
      "Epoch 46/50\n",
      "60000/60000 [==============================] - 2s 28us/step - loss: 0.0926 - val_loss: 0.0914\n",
      "Epoch 47/50\n",
      "60000/60000 [==============================] - 2s 27us/step - loss: 0.0926 - val_loss: 0.0915\n",
      "Epoch 48/50\n",
      "60000/60000 [==============================] - 2s 27us/step - loss: 0.0926 - val_loss: 0.0915\n",
      "Epoch 49/50\n",
      "60000/60000 [==============================] - 2s 27us/step - loss: 0.0926 - val_loss: 0.0915\n",
      "Epoch 50/50\n",
      "60000/60000 [==============================] - 2s 27us/step - loss: 0.0926 - val_loss: 0.0915\n"
     ]
    },
    {
     "data": {
      "text/plain": [
       "<keras.callbacks.History at 0x7f5163e00e48>"
      ]
     },
     "execution_count": 9,
     "metadata": {},
     "output_type": "execute_result"
    }
   ],
   "source": [
    "autoencoder.compile(optimizer='adam', loss='binary_crossentropy')\n",
    "autoencoder.fit(x_train, x_train,\n",
    "                epochs=50,\n",
    "                batch_size=256,\n",
    "                shuffle=True,\n",
    "                validation_data=(x_test, x_test))"
   ]
  },
  {
   "cell_type": "markdown",
   "metadata": {},
   "source": [
    "We've successfully trained our first autoencoder. With a mere 50,992 parameters, our autoencoder model can compress an MNIST digit down to 32 floating-point digits. Not that impressive, but it works.\n",
    "\n",
    "To check out the encoded images and the reconstructed image quality, we randomly sample 10 test images. I really like how the encoded images look. Do they make sense? No. Are they eye candy though? Most definitely.\n",
    "\n",
    "However, the reconstructed images are quite lossy. You can see the digits clearly, but notice the loss in image quality."
   ]
  },
  {
   "cell_type": "code",
   "execution_count": 10,
   "metadata": {},
   "outputs": [
    {
     "data": {
      "image/png": "[encoded data removed]",
      "text/plain": [
       "<Figure size 1296x288 with 30 Axes>"
      ]
     },
     "metadata": {
      "needs_background": "light"
     },
     "output_type": "display_data"
    }
   ],
   "source": [
    "num_images = 10\n",
    "np.random.seed(42)\n",
    "random_test_images = np.random.randint(x_test.shape[0], size=num_images)\n",
    "\n",
    "encoded_imgs = encoder.predict(x_test)\n",
    "decoded_imgs = autoencoder.predict(x_test)\n",
    "\n",
    "plt.figure(figsize=(18, 4))\n",
    "\n",
    "for i, image_idx in enumerate(random_test_images):\n",
    "    # plot original image\n",
    "    ax = plt.subplot(3, num_images, i + 1)\n",
    "    plt.imshow(x_test[image_idx].reshape(28, 28))\n",
    "    plt.gray()\n",
    "    ax.get_xaxis().set_visible(False)\n",
    "    ax.get_yaxis().set_visible(False)\n",
    "    \n",
    "    # plot encoded image\n",
    "    ax = plt.subplot(3, num_images, num_images + i + 1)\n",
    "    plt.imshow(encoded_imgs[image_idx].reshape(8, 4))\n",
    "    plt.gray()\n",
    "    ax.get_xaxis().set_visible(False)\n",
    "    ax.get_yaxis().set_visible(False)\n",
    "\n",
    "    # plot reconstructed image\n",
    "    ax = plt.subplot(3, num_images, 2*num_images + i + 1)\n",
    "    plt.imshow(decoded_imgs[image_idx].reshape(28, 28))\n",
    "    plt.gray()\n",
    "    ax.get_xaxis().set_visible(False)\n",
    "    ax.get_yaxis().set_visible(False)\n",
    "plt.show()"
   ]
  },
  {
   "cell_type": "markdown",
   "metadata": {},
   "source": [
    "***\n",
    "\n",
    "# Deep Autoencoder\n",
    "\n",
    "\n",
    "Above, we used single fully-connected layers for both the encoding and decoding models. Instead, we can stack multiple fully-connected layers to make each of the encoder and decoder functions **deep**. You know because deep learning.\n",
    "\n",
    "In this next model, we'll use 3 fully-connected layers for the encoding model with decreasing dimensions from 128 to 64 32 again. Likewise, we'll add 3 fully-connected decoder layers that reconstruct the image back to 784 dimensions. Except for the last layer, we'll use ReLU activation functions again.\n",
    "\n",
    "In Keras, this model is painfully simple to do, so let's get started. We'll use the same training configuration: Adam + 50 epochs + batch size of 256."
   ]
  },
  {
   "cell_type": "code",
   "execution_count": 11,
   "metadata": {},
   "outputs": [
    {
     "name": "stdout",
     "output_type": "stream",
     "text": [
      "_________________________________________________________________\n",
      "Layer (type)                 Output Shape              Param #   \n",
      "=================================================================\n",
      "dense_3 (Dense)              (None, 128)               100480    \n",
      "_________________________________________________________________\n",
      "dense_4 (Dense)              (None, 64)                8256      \n",
      "_________________________________________________________________\n",
      "dense_5 (Dense)              (None, 32)                2080      \n",
      "_________________________________________________________________\n",
      "dense_6 (Dense)              (None, 64)                2112      \n",
      "_________________________________________________________________\n",
      "dense_7 (Dense)              (None, 128)               8320      \n",
      "_________________________________________________________________\n",
      "dense_8 (Dense)              (None, 784)               101136    \n",
      "=================================================================\n",
      "Total params: 222,384\n",
      "Trainable params: 222,384\n",
      "Non-trainable params: 0\n",
      "_________________________________________________________________\n"
     ]
    }
   ],
   "source": [
    "autoencoder = Sequential()\n",
    "\n",
    "# Encoder Layers\n",
    "autoencoder.add(Dense(4 * encoding_dim, input_shape=(input_dim,), activation='relu'))\n",
    "autoencoder.add(Dense(2 * encoding_dim, activation='relu'))\n",
    "autoencoder.add(Dense(encoding_dim, activation='relu'))\n",
    "\n",
    "# Decoder Layers\n",
    "autoencoder.add(Dense(2 * encoding_dim, activation='relu'))\n",
    "autoencoder.add(Dense(4 * encoding_dim, activation='relu'))\n",
    "autoencoder.add(Dense(input_dim, activation='sigmoid'))\n",
    "\n",
    "autoencoder.summary()"
   ]
  },
  {
   "cell_type": "markdown",
   "metadata": {},
   "source": [
    "## Encoder Model\n",
    "\n",
    "Like we did above, we can extract the encoder model from the autoencoder. The encoder model consists of the first 3 layers in the autoencoder, so let's extract them to visualize the encoded images."
   ]
  },
  {
   "cell_type": "code",
   "execution_count": 12,
   "metadata": {},
   "outputs": [
    {
     "name": "stdout",
     "output_type": "stream",
     "text": [
      "_________________________________________________________________\n",
      "Layer (type)                 Output Shape              Param #   \n",
      "=================================================================\n",
      "input_2 (InputLayer)         (None, 784)               0         \n",
      "_________________________________________________________________\n",
      "dense_3 (Dense)              (None, 128)               100480    \n",
      "_________________________________________________________________\n",
      "dense_4 (Dense)              (None, 64)                8256      \n",
      "_________________________________________________________________\n",
      "dense_5 (Dense)              (None, 32)                2080      \n",
      "=================================================================\n",
      "Total params: 110,816\n",
      "Trainable params: 110,816\n",
      "Non-trainable params: 0\n",
      "_________________________________________________________________\n"
     ]
    }
   ],
   "source": [
    "input_img = Input(shape=(input_dim,))\n",
    "encoder_layer1 = autoencoder.layers[0]\n",
    "encoder_layer2 = autoencoder.layers[1]\n",
    "encoder_layer3 = autoencoder.layers[2]\n",
    "encoder = Model(input_img, encoder_layer3(encoder_layer2(encoder_layer1(input_img))))\n",
    "\n",
    "encoder.summary()"
   ]
  },
  {
   "cell_type": "code",
   "execution_count": 13,
   "metadata": {},
   "outputs": [
    {
     "name": "stdout",
     "output_type": "stream",
     "text": [
      "Train on 60000 samples, validate on 10000 samples\n",
      "Epoch 1/50\n",
      "60000/60000 [==============================] - 3s 53us/step - loss: 0.2510 - val_loss: 0.1741\n",
      "Epoch 2/50\n",
      "60000/60000 [==============================] - 2s 39us/step - loss: 0.1586 - val_loss: 0.1416\n",
      "Epoch 3/50\n",
      "60000/60000 [==============================] - 2s 38us/step - loss: 0.1346 - val_loss: 0.1265\n",
      "Epoch 4/50\n",
      "60000/60000 [==============================] - 2s 37us/step - loss: 0.1238 - val_loss: 0.1189\n",
      "Epoch 5/50\n",
      "60000/60000 [==============================] - 2s 38us/step - loss: 0.1173 - val_loss: 0.1132\n",
      "Epoch 6/50\n",
      "60000/60000 [==============================] - 2s 38us/step - loss: 0.1127 - val_loss: 0.1092\n",
      "Epoch 7/50\n",
      "60000/60000 [==============================] - 2s 41us/step - loss: 0.1093 - val_loss: 0.1071\n",
      "Epoch 8/50\n",
      "60000/60000 [==============================] - 2s 37us/step - loss: 0.1071 - val_loss: 0.1046\n",
      "Epoch 9/50\n",
      "60000/60000 [==============================] - 2s 38us/step - loss: 0.1050 - val_loss: 0.1027\n",
      "Epoch 10/50\n",
      "60000/60000 [==============================] - 2s 38us/step - loss: 0.1032 - val_loss: 0.1011\n",
      "Epoch 11/50\n",
      "60000/60000 [==============================] - 2s 38us/step - loss: 0.1018 - val_loss: 0.1003\n",
      "Epoch 12/50\n",
      "60000/60000 [==============================] - 2s 40us/step - loss: 0.1006 - val_loss: 0.0990\n",
      "Epoch 13/50\n",
      "60000/60000 [==============================] - 2s 38us/step - loss: 0.0994 - val_loss: 0.0979\n",
      "Epoch 14/50\n",
      "60000/60000 [==============================] - 2s 37us/step - loss: 0.0983 - val_loss: 0.0969\n",
      "Epoch 15/50\n",
      "60000/60000 [==============================] - 2s 37us/step - loss: 0.0972 - val_loss: 0.0958\n",
      "Epoch 16/50\n",
      "60000/60000 [==============================] - 2s 38us/step - loss: 0.0962 - val_loss: 0.0949\n",
      "Epoch 17/50\n",
      "60000/60000 [==============================] - 2s 40us/step - loss: 0.0955 - val_loss: 0.0942\n",
      "Epoch 18/50\n",
      "60000/60000 [==============================] - 2s 38us/step - loss: 0.0948 - val_loss: 0.0936\n",
      "Epoch 19/50\n",
      "60000/60000 [==============================] - 2s 38us/step - loss: 0.0942 - val_loss: 0.0933\n",
      "Epoch 20/50\n",
      "60000/60000 [==============================] - 2s 38us/step - loss: 0.0938 - val_loss: 0.0929\n",
      "Epoch 21/50\n",
      "60000/60000 [==============================] - 2s 38us/step - loss: 0.0933 - val_loss: 0.0924\n",
      "Epoch 22/50\n",
      "60000/60000 [==============================] - 2s 40us/step - loss: 0.0929 - val_loss: 0.0919\n",
      "Epoch 23/50\n",
      "60000/60000 [==============================] - 2s 38us/step - loss: 0.0924 - val_loss: 0.0915\n",
      "Epoch 24/50\n",
      "60000/60000 [==============================] - 2s 38us/step - loss: 0.0921 - val_loss: 0.0913\n",
      "Epoch 25/50\n",
      "60000/60000 [==============================] - 2s 37us/step - loss: 0.0917 - val_loss: 0.0907\n",
      "Epoch 26/50\n",
      "60000/60000 [==============================] - 2s 38us/step - loss: 0.0913 - val_loss: 0.0903\n",
      "Epoch 27/50\n",
      "60000/60000 [==============================] - 2s 40us/step - loss: 0.0909 - val_loss: 0.0898\n",
      "Epoch 28/50\n",
      "60000/60000 [==============================] - 2s 38us/step - loss: 0.0905 - val_loss: 0.0896\n",
      "Epoch 29/50\n",
      "60000/60000 [==============================] - 2s 38us/step - loss: 0.0901 - val_loss: 0.0895\n",
      "Epoch 30/50\n",
      "60000/60000 [==============================] - 2s 38us/step - loss: 0.0898 - val_loss: 0.0891\n",
      "Epoch 31/50\n",
      "60000/60000 [==============================] - 2s 38us/step - loss: 0.0895 - val_loss: 0.0887\n",
      "Epoch 32/50\n",
      "60000/60000 [==============================] - 2s 40us/step - loss: 0.0892 - val_loss: 0.0888\n",
      "Epoch 33/50\n",
      "60000/60000 [==============================] - 2s 38us/step - loss: 0.0890 - val_loss: 0.0883\n",
      "Epoch 34/50\n",
      "60000/60000 [==============================] - 2s 38us/step - loss: 0.0887 - val_loss: 0.0881\n",
      "Epoch 35/50\n",
      "60000/60000 [==============================] - 2s 37us/step - loss: 0.0885 - val_loss: 0.0879\n",
      "Epoch 36/50\n",
      "60000/60000 [==============================] - 2s 38us/step - loss: 0.0883 - val_loss: 0.0878\n",
      "Epoch 37/50\n",
      "60000/60000 [==============================] - 2s 39us/step - loss: 0.0881 - val_loss: 0.0873\n",
      "Epoch 38/50\n",
      "60000/60000 [==============================] - 2s 39us/step - loss: 0.0880 - val_loss: 0.0872\n",
      "Epoch 39/50\n",
      "60000/60000 [==============================] - 2s 38us/step - loss: 0.0877 - val_loss: 0.0872\n",
      "Epoch 40/50\n",
      "60000/60000 [==============================] - 2s 38us/step - loss: 0.0876 - val_loss: 0.0869\n",
      "Epoch 41/50\n",
      "60000/60000 [==============================] - 2s 38us/step - loss: 0.0875 - val_loss: 0.0868\n",
      "Epoch 42/50\n",
      "60000/60000 [==============================] - 2s 39us/step - loss: 0.0873 - val_loss: 0.0866\n",
      "Epoch 43/50\n",
      "60000/60000 [==============================] - 2s 40us/step - loss: 0.0872 - val_loss: 0.0866\n",
      "Epoch 44/50\n",
      "60000/60000 [==============================] - 2s 38us/step - loss: 0.0870 - val_loss: 0.0864\n",
      "Epoch 45/50\n",
      "60000/60000 [==============================] - 2s 38us/step - loss: 0.0869 - val_loss: 0.0861\n",
      "Epoch 46/50\n",
      "60000/60000 [==============================] - 2s 37us/step - loss: 0.0868 - val_loss: 0.0863\n",
      "Epoch 47/50\n",
      "60000/60000 [==============================] - 2s 38us/step - loss: 0.0867 - val_loss: 0.0864\n",
      "Epoch 48/50\n",
      "60000/60000 [==============================] - 2s 40us/step - loss: 0.0866 - val_loss: 0.0862\n",
      "Epoch 49/50\n",
      "60000/60000 [==============================] - 2s 37us/step - loss: 0.0865 - val_loss: 0.0860\n",
      "Epoch 50/50\n",
      "60000/60000 [==============================] - 2s 37us/step - loss: 0.0864 - val_loss: 0.0861\n"
     ]
    },
    {
     "data": {
      "text/plain": [
       "<keras.callbacks.History at 0x7f50a1e75780>"
      ]
     },
     "execution_count": 13,
     "metadata": {},
     "output_type": "execute_result"
    }
   ],
   "source": [
    "autoencoder.compile(optimizer='adam', loss='binary_crossentropy')\n",
    "autoencoder.fit(x_train, x_train,\n",
    "                epochs=50,\n",
    "                batch_size=256,\n",
    "                validation_data=(x_test, x_test))"
   ]
  },
  {
   "cell_type": "markdown",
   "metadata": {},
   "source": [
    "As with the simple autoencoder, we randomly sample 10 test images (the same ones as before). The reconstructed digits look much better than those from the single-layer autoencoder. This observation aligns with the reduction in validation loss after adding multiple layers to the autoencoder."
   ]
  },
  {
   "cell_type": "code",
   "execution_count": 14,
   "metadata": {},
   "outputs": [
    {
     "data": {
      "image/png": "[encoded data removed]",
      "text/plain": [
       "<Figure size 1296x288 with 30 Axes>"
      ]
     },
     "metadata": {
      "needs_background": "light"
     },
     "output_type": "display_data"
    }
   ],
   "source": [
    "num_images = 10\n",
    "np.random.seed(42)\n",
    "random_test_images = np.random.randint(x_test.shape[0], size=num_images)\n",
    "\n",
    "encoded_imgs = encoder.predict(x_test)\n",
    "decoded_imgs = autoencoder.predict(x_test)\n",
    "\n",
    "plt.figure(figsize=(18, 4))\n",
    "\n",
    "for i, image_idx in enumerate(random_test_images):\n",
    "    # plot original image\n",
    "    ax = plt.subplot(3, num_images, i + 1)\n",
    "    plt.imshow(x_test[image_idx].reshape(28, 28))\n",
    "    plt.gray()\n",
    "    ax.get_xaxis().set_visible(False)\n",
    "    ax.get_yaxis().set_visible(False)\n",
    "    \n",
    "    # plot encoded image\n",
    "    ax = plt.subplot(3, num_images, num_images + i + 1)\n",
    "    plt.imshow(encoded_imgs[image_idx].reshape(8, 4))\n",
    "    plt.gray()\n",
    "    ax.get_xaxis().set_visible(False)\n",
    "    ax.get_yaxis().set_visible(False)\n",
    "\n",
    "    # plot reconstructed image\n",
    "    ax = plt.subplot(3, num_images, 2*num_images + i + 1)\n",
    "    plt.imshow(decoded_imgs[image_idx].reshape(28, 28))\n",
    "    plt.gray()\n",
    "    ax.get_xaxis().set_visible(False)\n",
    "    ax.get_yaxis().set_visible(False)\n",
    "plt.show()"
   ]
  },
  {
   "cell_type": "markdown",
   "metadata": {},
   "source": [
    "***\n",
    "\n",
    "# Convolutional Autoencoder\n",
    "\n",
    "Now that we've explored deep autoencoders, let's use a convolutional autoencoder instead, given that the input objects are images. What this means is our encoding and decoding models will be [convolutional neural networks](http://cs231n.github.io/convolutional-networks/) instead of fully-connected networks.\n",
    "\n",
    "Again, Keras makes this very easy for us. Before we get started though, we need to reshapes the images back to `28 x 28 x 1` for the convnets. The 1 is for 1 channel because black and white. If we had RGB color, there would be 3 channels."
   ]
  },
  {
   "cell_type": "code",
   "execution_count": 15,
   "metadata": {},
   "outputs": [
    {
     "name": "stdout",
     "output_type": "stream",
     "text": [
      "(60000, 28, 28, 1)\n"
     ]
    }
   ],
   "source": [
    "x_train = x_train.reshape((len(x_train), 28, 28, 1))\n",
    "x_test = x_test.reshape((len(x_test), 28, 28, 1))\n",
    "print(x_train.shape)"
   ]
  },
  {
   "cell_type": "markdown",
   "metadata": {},
   "source": [
    "To build the convolutional autoencoder, we'll make use of `Conv2D` and `MaxPooling2D` layers for the encoder and `Conv2D` and `UpSampling2D` layers for the decoder. The encoded images are transformed to a 3D array of dimensions `4 x 4 x 8`, but to visualize the encoding, we'll flatten it to a vector of length 128. I tried to use an encoding dimension of 32 like above, but I kept getting subpar results.\n",
    "\n",
    "After the flattening layer, we reshape the image back to a `4 x 4 x 8` array before upsampling back to a `28 x 28 x 1` image."
   ]
  },
  {
   "cell_type": "code",
   "execution_count": 16,
   "metadata": {
    "scrolled": false
   },
   "outputs": [
    {
     "name": "stdout",
     "output_type": "stream",
     "text": [
      "_________________________________________________________________\n",
      "Layer (type)                 Output Shape              Param #   \n",
      "=================================================================\n",
      "conv2d_1 (Conv2D)            (None, 28, 28, 16)        160       \n",
      "_________________________________________________________________\n",
      "max_pooling2d_1 (MaxPooling2 (None, 14, 14, 16)        0         \n",
      "_________________________________________________________________\n",
      "conv2d_2 (Conv2D)            (None, 14, 14, 8)         1160      \n",
      "_________________________________________________________________\n",
      "max_pooling2d_2 (MaxPooling2 (None, 7, 7, 8)           0         \n",
      "_________________________________________________________________\n",
      "conv2d_3 (Conv2D)            (None, 4, 4, 8)           584       \n",
      "_________________________________________________________________\n",
      "flatten_1 (Flatten)          (None, 128)               0         \n",
      "_________________________________________________________________\n",
      "reshape_1 (Reshape)          (None, 4, 4, 8)           0         \n",
      "_________________________________________________________________\n",
      "conv2d_4 (Conv2D)            (None, 4, 4, 8)           584       \n",
      "_________________________________________________________________\n",
      "up_sampling2d_1 (UpSampling2 (None, 8, 8, 8)           0         \n",
      "_________________________________________________________________\n",
      "conv2d_5 (Conv2D)            (None, 8, 8, 8)           584       \n",
      "_________________________________________________________________\n",
      "up_sampling2d_2 (UpSampling2 (None, 16, 16, 8)         0         \n",
      "_________________________________________________________________\n",
      "conv2d_6 (Conv2D)            (None, 14, 14, 16)        1168      \n",
      "_________________________________________________________________\n",
      "up_sampling2d_3 (UpSampling2 (None, 28, 28, 16)        0         \n",
      "_________________________________________________________________\n",
      "conv2d_7 (Conv2D)            (None, 28, 28, 1)         145       \n",
      "=================================================================\n",
      "Total params: 4,385\n",
      "Trainable params: 4,385\n",
      "Non-trainable params: 0\n",
      "_________________________________________________________________\n"
     ]
    }
   ],
   "source": [
    "autoencoder = Sequential()\n",
    "\n",
    "# Encoder Layers\n",
    "autoencoder.add(Conv2D(16, (3, 3), activation='relu', padding='same', input_shape=x_train.shape[1:]))\n",
    "autoencoder.add(MaxPooling2D((2, 2), padding='same'))\n",
    "autoencoder.add(Conv2D(8, (3, 3), activation='relu', padding='same'))\n",
    "autoencoder.add(MaxPooling2D((2, 2), padding='same'))\n",
    "autoencoder.add(Conv2D(8, (3, 3), strides=(2,2), activation='relu', padding='same'))\n",
    "\n",
    "# Flatten encoding for visualization\n",
    "autoencoder.add(Flatten())\n",
    "autoencoder.add(Reshape((4, 4, 8)))\n",
    "\n",
    "# Decoder Layers\n",
    "autoencoder.add(Conv2D(8, (3, 3), activation='relu', padding='same'))\n",
    "autoencoder.add(UpSampling2D((2, 2)))\n",
    "autoencoder.add(Conv2D(8, (3, 3), activation='relu', padding='same'))\n",
    "autoencoder.add(UpSampling2D((2, 2)))\n",
    "autoencoder.add(Conv2D(16, (3, 3), activation='relu'))\n",
    "autoencoder.add(UpSampling2D((2, 2)))\n",
    "autoencoder.add(Conv2D(1, (3, 3), activation='sigmoid', padding='same'))\n",
    "\n",
    "autoencoder.summary()"
   ]
  },
  {
   "cell_type": "markdown",
   "metadata": {},
   "source": [
    "## Encoder Model\n",
    "\n",
    "To extract the encoder model for the autoencoder, we're going to use a slightly different approach than before. Rather than extracting the first 6 layers, we're going to create a new `Model` with the same input as the autoencoder, but the output will be that of the flattening layer. As a side note, this is a very useful technique for grabbing submodels for things like [transfer learning](http://ruder.io/transfer-learning/).\n",
    "\n",
    "As I mentioned before, the encoded image is a vector of length 128."
   ]
  },
  {
   "cell_type": "code",
   "execution_count": 17,
   "metadata": {},
   "outputs": [
    {
     "name": "stdout",
     "output_type": "stream",
     "text": [
      "_________________________________________________________________\n",
      "Layer (type)                 Output Shape              Param #   \n",
      "=================================================================\n",
      "conv2d_1_input (InputLayer)  (None, 28, 28, 1)         0         \n",
      "_________________________________________________________________\n",
      "conv2d_1 (Conv2D)            (None, 28, 28, 16)        160       \n",
      "_________________________________________________________________\n",
      "max_pooling2d_1 (MaxPooling2 (None, 14, 14, 16)        0         \n",
      "_________________________________________________________________\n",
      "conv2d_2 (Conv2D)            (None, 14, 14, 8)         1160      \n",
      "_________________________________________________________________\n",
      "max_pooling2d_2 (MaxPooling2 (None, 7, 7, 8)           0         \n",
      "_________________________________________________________________\n",
      "conv2d_3 (Conv2D)            (None, 4, 4, 8)           584       \n",
      "_________________________________________________________________\n",
      "flatten_1 (Flatten)          (None, 128)               0         \n",
      "=================================================================\n",
      "Total params: 1,904\n",
      "Trainable params: 1,904\n",
      "Non-trainable params: 0\n",
      "_________________________________________________________________\n"
     ]
    }
   ],
   "source": [
    "encoder = Model(inputs=autoencoder.input, outputs=autoencoder.get_layer('flatten_1').output)\n",
    "encoder.summary()"
   ]
  },
  {
   "cell_type": "code",
   "execution_count": 19,
   "metadata": {},
   "outputs": [
    {
     "name": "stdout",
     "output_type": "stream",
     "text": [
      "Train on 60000 samples, validate on 10000 samples\n",
      "Epoch 1/100\n",
      "60000/60000 [==============================] - 7s 120us/step - loss: 0.1988 - val_loss: 0.1359\n",
      "Epoch 2/100\n",
      "60000/60000 [==============================] - 6s 103us/step - loss: 0.1251 - val_loss: 0.1162\n",
      "Epoch 3/100\n",
      "60000/60000 [==============================] - 6s 100us/step - loss: 0.1138 - val_loss: 0.1094\n",
      "Epoch 4/100\n",
      "60000/60000 [==============================] - 6s 101us/step - loss: 0.1083 - val_loss: 0.1052\n",
      "Epoch 5/100\n",
      "60000/60000 [==============================] - 6s 102us/step - loss: 0.1045 - val_loss: 0.1017\n",
      "Epoch 6/100\n",
      "60000/60000 [==============================] - 6s 104us/step - loss: 0.1016 - val_loss: 0.0992\n",
      "Epoch 7/100\n",
      "60000/60000 [==============================] - 6s 103us/step - loss: 0.0994 - val_loss: 0.0971\n",
      "Epoch 8/100\n",
      "60000/60000 [==============================] - 6s 104us/step - loss: 0.0975 - val_loss: 0.0954\n",
      "Epoch 9/100\n",
      "60000/60000 [==============================] - 6s 100us/step - loss: 0.0959 - val_loss: 0.0939\n",
      "Epoch 10/100\n",
      "60000/60000 [==============================] - 6s 101us/step - loss: 0.0946 - val_loss: 0.0929\n",
      "Epoch 11/100\n",
      "60000/60000 [==============================] - 6s 102us/step - loss: 0.0935 - val_loss: 0.0916\n",
      "Epoch 12/100\n",
      "60000/60000 [==============================] - 6s 103us/step - loss: 0.0924 - val_loss: 0.0908\n",
      "Epoch 13/100\n",
      "60000/60000 [==============================] - 6s 101us/step - loss: 0.0916 - val_loss: 0.0900\n",
      "Epoch 14/100\n",
      "60000/60000 [==============================] - 6s 104us/step - loss: 0.0909 - val_loss: 0.0894\n",
      "Epoch 15/100\n",
      "60000/60000 [==============================] - 6s 106us/step - loss: 0.0903 - val_loss: 0.0889\n",
      "Epoch 16/100\n",
      "60000/60000 [==============================] - 7s 109us/step - loss: 0.0898 - val_loss: 0.0884\n",
      "Epoch 17/100\n",
      "60000/60000 [==============================] - 6s 103us/step - loss: 0.0892 - val_loss: 0.0883\n",
      "Epoch 18/100\n",
      "60000/60000 [==============================] - 6s 102us/step - loss: 0.0889 - val_loss: 0.0874\n",
      "Epoch 19/100\n",
      "60000/60000 [==============================] - 6s 106us/step - loss: 0.0884 - val_loss: 0.0870\n",
      "Epoch 20/100\n",
      "60000/60000 [==============================] - 6s 108us/step - loss: 0.0881 - val_loss: 0.0868\n",
      "Epoch 21/100\n",
      "60000/60000 [==============================] - 6s 107us/step - loss: 0.0877 - val_loss: 0.0863\n",
      "Epoch 22/100\n",
      "60000/60000 [==============================] - 6s 103us/step - loss: 0.0874 - val_loss: 0.0863\n",
      "Epoch 23/100\n",
      "60000/60000 [==============================] - 6s 103us/step - loss: 0.0871 - val_loss: 0.0860\n",
      "Epoch 24/100\n",
      "60000/60000 [==============================] - 6s 106us/step - loss: 0.0867 - val_loss: 0.0856\n",
      "Epoch 25/100\n",
      "60000/60000 [==============================] - 6s 107us/step - loss: 0.0865 - val_loss: 0.0857\n",
      "Epoch 26/100\n",
      "60000/60000 [==============================] - 6s 104us/step - loss: 0.0862 - val_loss: 0.0850\n",
      "Epoch 27/100\n",
      "60000/60000 [==============================] - 6s 105us/step - loss: 0.0860 - val_loss: 0.0851\n",
      "Epoch 28/100\n",
      "60000/60000 [==============================] - 6s 104us/step - loss: 0.0858 - val_loss: 0.0847\n",
      "Epoch 29/100\n",
      "60000/60000 [==============================] - 6s 102us/step - loss: 0.0856 - val_loss: 0.0844\n",
      "Epoch 30/100\n",
      "60000/60000 [==============================] - 6s 100us/step - loss: 0.0854 - val_loss: 0.0847\n",
      "Epoch 31/100\n",
      "60000/60000 [==============================] - 6s 107us/step - loss: 0.0852 - val_loss: 0.0841\n",
      "Epoch 32/100\n",
      "60000/60000 [==============================] - 6s 107us/step - loss: 0.0850 - val_loss: 0.0843\n",
      "Epoch 33/100\n",
      "60000/60000 [==============================] - 6s 108us/step - loss: 0.0849 - val_loss: 0.0839\n",
      "Epoch 34/100\n",
      "60000/60000 [==============================] - 6s 106us/step - loss: 0.0847 - val_loss: 0.0838\n",
      "Epoch 35/100\n",
      "60000/60000 [==============================] - 6s 106us/step - loss: 0.0845 - val_loss: 0.0834\n",
      "Epoch 36/100\n",
      "60000/60000 [==============================] - 6s 107us/step - loss: 0.0844 - val_loss: 0.0833\n",
      "Epoch 37/100\n",
      "60000/60000 [==============================] - 6s 105us/step - loss: 0.0842 - val_loss: 0.0831\n",
      "Epoch 38/100\n",
      "60000/60000 [==============================] - 6s 101us/step - loss: 0.0841 - val_loss: 0.0831\n",
      "Epoch 39/100\n",
      "60000/60000 [==============================] - 7s 109us/step - loss: 0.0840 - val_loss: 0.0828\n",
      "Epoch 40/100\n",
      "60000/60000 [==============================] - 6s 104us/step - loss: 0.0838 - val_loss: 0.0828\n",
      "Epoch 41/100\n",
      "60000/60000 [==============================] - 6s 107us/step - loss: 0.0837 - val_loss: 0.0825\n",
      "Epoch 42/100\n",
      "60000/60000 [==============================] - 6s 107us/step - loss: 0.0836 - val_loss: 0.0825\n",
      "Epoch 43/100\n",
      "60000/60000 [==============================] - 6s 107us/step - loss: 0.0835 - val_loss: 0.0825\n",
      "Epoch 44/100\n",
      "60000/60000 [==============================] - 6s 108us/step - loss: 0.0834 - val_loss: 0.0822\n",
      "Epoch 45/100\n",
      "60000/60000 [==============================] - 6s 108us/step - loss: 0.0832 - val_loss: 0.0822\n",
      "Epoch 46/100\n",
      "60000/60000 [==============================] - 6s 105us/step - loss: 0.0832 - val_loss: 0.0819\n",
      "Epoch 47/100\n",
      "60000/60000 [==============================] - 6s 103us/step - loss: 0.0831 - val_loss: 0.0819\n",
      "Epoch 48/100\n",
      "60000/60000 [==============================] - 6s 107us/step - loss: 0.0830 - val_loss: 0.0819\n",
      "Epoch 49/100\n",
      "60000/60000 [==============================] - 6s 107us/step - loss: 0.0828 - val_loss: 0.0817\n",
      "Epoch 50/100\n",
      "60000/60000 [==============================] - 6s 106us/step - loss: 0.0827 - val_loss: 0.0817\n",
      "Epoch 51/100\n",
      "60000/60000 [==============================] - 6s 108us/step - loss: 0.0827 - val_loss: 0.0816\n",
      "Epoch 52/100\n",
      "60000/60000 [==============================] - 6s 106us/step - loss: 0.0825 - val_loss: 0.0816\n",
      "Epoch 53/100\n",
      "60000/60000 [==============================] - 6s 107us/step - loss: 0.0825 - val_loss: 0.0815\n",
      "Epoch 54/100\n",
      "60000/60000 [==============================] - 6s 107us/step - loss: 0.0823 - val_loss: 0.0811\n",
      "Epoch 55/100\n",
      "60000/60000 [==============================] - 6s 108us/step - loss: 0.0822 - val_loss: 0.0811\n",
      "Epoch 56/100\n",
      "60000/60000 [==============================] - 6s 101us/step - loss: 0.0821 - val_loss: 0.0808\n",
      "Epoch 57/100\n",
      "60000/60000 [==============================] - 6s 106us/step - loss: 0.0819 - val_loss: 0.0808\n",
      "Epoch 58/100\n",
      "60000/60000 [==============================] - 6s 105us/step - loss: 0.0818 - val_loss: 0.0808\n",
      "Epoch 59/100\n",
      "60000/60000 [==============================] - 6s 107us/step - loss: 0.0817 - val_loss: 0.0806\n",
      "Epoch 60/100\n",
      "60000/60000 [==============================] - 6s 107us/step - loss: 0.0816 - val_loss: 0.0804\n",
      "Epoch 61/100\n",
      "60000/60000 [==============================] - 6s 107us/step - loss: 0.0815 - val_loss: 0.0806\n",
      "Epoch 62/100\n",
      "60000/60000 [==============================] - 6s 103us/step - loss: 0.0814 - val_loss: 0.0805\n",
      "Epoch 63/100\n",
      "60000/60000 [==============================] - 6s 104us/step - loss: 0.0813 - val_loss: 0.0802\n",
      "Epoch 64/100\n",
      "60000/60000 [==============================] - 6s 107us/step - loss: 0.0812 - val_loss: 0.0801\n",
      "Epoch 65/100\n",
      "60000/60000 [==============================] - 6s 108us/step - loss: 0.0811 - val_loss: 0.0800\n",
      "Epoch 66/100\n",
      "60000/60000 [==============================] - 6s 105us/step - loss: 0.0810 - val_loss: 0.0799\n",
      "Epoch 67/100\n",
      "60000/60000 [==============================] - 6s 107us/step - loss: 0.0809 - val_loss: 0.0802\n",
      "Epoch 68/100\n",
      "60000/60000 [==============================] - 6s 108us/step - loss: 0.0809 - val_loss: 0.0807\n",
      "Epoch 69/100\n",
      "60000/60000 [==============================] - 6s 103us/step - loss: 0.0808 - val_loss: 0.0797\n",
      "Epoch 70/100\n",
      "60000/60000 [==============================] - 6s 105us/step - loss: 0.0807 - val_loss: 0.0796\n",
      "Epoch 71/100\n",
      "60000/60000 [==============================] - 6s 104us/step - loss: 0.0806 - val_loss: 0.0798\n",
      "Epoch 72/100\n",
      "60000/60000 [==============================] - 6s 107us/step - loss: 0.0806 - val_loss: 0.0798\n",
      "Epoch 73/100\n",
      "60000/60000 [==============================] - 6s 107us/step - loss: 0.0805 - val_loss: 0.0796\n",
      "Epoch 74/100\n",
      "60000/60000 [==============================] - 6s 100us/step - loss: 0.0805 - val_loss: 0.0794\n",
      "Epoch 75/100\n",
      "60000/60000 [==============================] - 6s 107us/step - loss: 0.0804 - val_loss: 0.0793\n",
      "Epoch 76/100\n"
     ]
    },
    {
     "name": "stdout",
     "output_type": "stream",
     "text": [
      "60000/60000 [==============================] - 6s 105us/step - loss: 0.0804 - val_loss: 0.0793\n",
      "Epoch 77/100\n",
      "60000/60000 [==============================] - 6s 101us/step - loss: 0.0803 - val_loss: 0.0796\n",
      "Epoch 78/100\n",
      "60000/60000 [==============================] - 6s 108us/step - loss: 0.0803 - val_loss: 0.0795\n",
      "Epoch 79/100\n",
      "60000/60000 [==============================] - 6s 107us/step - loss: 0.0803 - val_loss: 0.0793\n",
      "Epoch 80/100\n",
      "60000/60000 [==============================] - 6s 107us/step - loss: 0.0802 - val_loss: 0.0792\n",
      "Epoch 81/100\n",
      "60000/60000 [==============================] - 6s 107us/step - loss: 0.0801 - val_loss: 0.0793\n",
      "Epoch 82/100\n",
      "60000/60000 [==============================] - 6s 107us/step - loss: 0.0801 - val_loss: 0.0796\n",
      "Epoch 83/100\n",
      "60000/60000 [==============================] - 6s 101us/step - loss: 0.0801 - val_loss: 0.0796\n",
      "Epoch 84/100\n",
      "60000/60000 [==============================] - 6s 107us/step - loss: 0.0800 - val_loss: 0.0790\n",
      "Epoch 85/100\n",
      "60000/60000 [==============================] - 6s 107us/step - loss: 0.0800 - val_loss: 0.0792\n",
      "Epoch 86/100\n",
      "60000/60000 [==============================] - 6s 102us/step - loss: 0.0800 - val_loss: 0.0793\n",
      "Epoch 87/100\n",
      "60000/60000 [==============================] - 6s 105us/step - loss: 0.0799 - val_loss: 0.0790\n",
      "Epoch 88/100\n",
      "60000/60000 [==============================] - 6s 106us/step - loss: 0.0799 - val_loss: 0.0791\n",
      "Epoch 89/100\n",
      "60000/60000 [==============================] - 6s 108us/step - loss: 0.0799 - val_loss: 0.0788\n",
      "Epoch 90/100\n",
      "60000/60000 [==============================] - 6s 107us/step - loss: 0.0799 - val_loss: 0.0796\n",
      "Epoch 91/100\n",
      "60000/60000 [==============================] - 6s 106us/step - loss: 0.0798 - val_loss: 0.0788\n",
      "Epoch 92/100\n",
      "60000/60000 [==============================] - 6s 107us/step - loss: 0.0798 - val_loss: 0.0788\n",
      "Epoch 93/100\n",
      "60000/60000 [==============================] - 6s 107us/step - loss: 0.0797 - val_loss: 0.0788\n",
      "Epoch 94/100\n",
      "60000/60000 [==============================] - 6s 104us/step - loss: 0.0797 - val_loss: 0.0788\n",
      "Epoch 95/100\n",
      "60000/60000 [==============================] - 6s 104us/step - loss: 0.0797 - val_loss: 0.0788\n",
      "Epoch 96/100\n",
      "60000/60000 [==============================] - 6s 105us/step - loss: 0.0797 - val_loss: 0.0793\n",
      "Epoch 97/100\n",
      "60000/60000 [==============================] - 6s 105us/step - loss: 0.0797 - val_loss: 0.0791\n",
      "Epoch 98/100\n",
      "60000/60000 [==============================] - 6s 107us/step - loss: 0.0796 - val_loss: 0.0787\n",
      "Epoch 99/100\n",
      "60000/60000 [==============================] - 6s 107us/step - loss: 0.0796 - val_loss: 0.0788\n",
      "Epoch 100/100\n",
      "60000/60000 [==============================] - 6s 107us/step - loss: 0.0796 - val_loss: 0.0787\n"
     ]
    },
    {
     "data": {
      "text/plain": [
       "<keras.callbacks.History at 0x7f5200903278>"
      ]
     },
     "execution_count": 19,
     "metadata": {},
     "output_type": "execute_result"
    }
   ],
   "source": [
    "autoencoder.compile(optimizer='adam', loss='binary_crossentropy')\n",
    "autoencoder.fit(x_train, x_train,\n",
    "                epochs=100,\n",
    "                batch_size=128,\n",
    "                validation_data=(x_test, x_test))"
   ]
  },
  {
   "cell_type": "markdown",
   "metadata": {},
   "source": [
    "The reconstructed digits look even better than before. This is no surprise given an even lower validation loss. Other than slight improved reconstruction, check out how the encoded image has changed. What's even cooler is that the encoded images of the 9 look similar as do those of the 8's. This similarity was far less pronounced for the simple and deep autoencoders."
   ]
  },
  {
   "cell_type": "code",
   "execution_count": 20,
   "metadata": {},
   "outputs": [
    {
     "data": {
      "image/png": "[encoded data removed]",
      "text/plain": [
       "<Figure size 1296x288 with 30 Axes>"
      ]
     },
     "metadata": {
      "needs_background": "light"
     },
     "output_type": "display_data"
    }
   ],
   "source": [
    "num_images = 10\n",
    "np.random.seed(42)\n",
    "random_test_images = np.random.randint(x_test.shape[0], size=num_images)\n",
    "\n",
    "encoded_imgs = encoder.predict(x_test)\n",
    "decoded_imgs = autoencoder.predict(x_test)\n",
    "\n",
    "plt.figure(figsize=(18, 4))\n",
    "\n",
    "for i, image_idx in enumerate(random_test_images):\n",
    "    # plot original image\n",
    "    ax = plt.subplot(3, num_images, i + 1)\n",
    "    plt.imshow(x_test[image_idx].reshape(28, 28))\n",
    "    plt.gray()\n",
    "    ax.get_xaxis().set_visible(False)\n",
    "    ax.get_yaxis().set_visible(False)\n",
    "    \n",
    "    # plot encoded image\n",
    "    ax = plt.subplot(3, num_images, num_images + i + 1)\n",
    "    plt.imshow(encoded_imgs[image_idx].reshape(16, 8))\n",
    "    plt.gray()\n",
    "    ax.get_xaxis().set_visible(False)\n",
    "    ax.get_yaxis().set_visible(False)\n",
    "\n",
    "    # plot reconstructed image\n",
    "    ax = plt.subplot(3, num_images, 2*num_images + i + 1)\n",
    "    plt.imshow(decoded_imgs[image_idx].reshape(28, 28))\n",
    "    plt.gray()\n",
    "    ax.get_xaxis().set_visible(False)\n",
    "    ax.get_yaxis().set_visible(False)\n",
    "plt.show()"
   ]
  },
  {
   "cell_type": "markdown",
   "metadata": {},
   "source": [
    "# Denoising Images with the Convolutional Autoencoder\n",
    "\n",
    "Earlier, I mentioned that autoencoders are useful for denoising data including images. When I learned about this concept in grad school, my mind was blown. This simple task helped me realize data can be manipulated in very useful ways and that the dirty data we often inherit can be cleansed using more advanced techniques.\n",
    "\n",
    "With that in mind, let's add bit of noise to the test images and see how good the convolutional autoencoder is at removing the noise."
   ]
  },
  {
   "cell_type": "code",
   "execution_count": 21,
   "metadata": {},
   "outputs": [
    {
     "data": {
      "image/png": "[encoded data removed]",
      "text/plain": [
       "<Figure size 1296x288 with 20 Axes>"
      ]
     },
     "metadata": {
      "needs_background": "light"
     },
     "output_type": "display_data"
    }
   ],
   "source": [
    "x_train_noisy = x_train + np.random.normal(loc=0.0, scale=0.5, size=x_train.shape)\n",
    "x_train_noisy = np.clip(x_train_noisy, 0., 1.)\n",
    "\n",
    "x_test_noisy = x_test + np.random.normal(loc=0.0, scale=0.5, size=x_test.shape)\n",
    "x_test_noisy = np.clip(x_test_noisy, 0., 1.)\n",
    "\n",
    "num_images = 10\n",
    "np.random.seed(42)\n",
    "random_test_images = np.random.randint(x_test.shape[0], size=num_images)\n",
    "\n",
    "# Denoise test images\n",
    "x_test_denoised = autoencoder.predict(x_test_noisy)\n",
    "\n",
    "plt.figure(figsize=(18, 4))\n",
    "\n",
    "for i, image_idx in enumerate(random_test_images):\n",
    "    # plot original image\n",
    "    ax = plt.subplot(2, num_images, i + 1)\n",
    "    plt.imshow(x_test_noisy[image_idx].reshape(28, 28))\n",
    "    plt.gray()\n",
    "    ax.get_xaxis().set_visible(False)\n",
    "    ax.get_yaxis().set_visible(False)\n",
    "    \n",
    "    # plot reconstructed image\n",
    "    ax = plt.subplot(2, num_images, num_images + i + 1)\n",
    "    plt.imshow(x_test_denoised[image_idx].reshape(28, 28))\n",
    "    plt.gray()\n",
    "    ax.get_xaxis().set_visible(False)\n",
    "    ax.get_yaxis().set_visible(False)\n",
    "plt.show()"
   ]
  },
  {
   "cell_type": "markdown",
   "metadata": {},
   "source": [
    "# Convolutional Autoencoder - Take 2\n",
    "\n",
    "Well, those images are terrible. They remind me of the mask from the movie Scream.\n",
    "\n",
    "![Scream mask](https://ae01.alicdn.com/kf/HTB1ZxqFj6ihSKJjy0Feq6zJtpXaS/New-Scary-Ghost-Face-Scream-Mask-Creepy-for-Halloween-Masquerade-Party-Fancy-Dress-Costume.jpg)\n",
    "\n",
    "Okay, so let's try that again. This time we're going to build a ConvNet with a lot more parameters and forego visualizing the encoding layer. The network will be a bit larger and slower to train, but the results are definitely worth the effort.\n",
    "\n",
    "One more thing: this time, let's use `(x_train_noisy, x_train)` as training data and `(x_test_noisy, x_test)` as validation data."
   ]
  },
  {
   "cell_type": "code",
   "execution_count": 22,
   "metadata": {},
   "outputs": [
    {
     "name": "stdout",
     "output_type": "stream",
     "text": [
      "_________________________________________________________________\n",
      "Layer (type)                 Output Shape              Param #   \n",
      "=================================================================\n",
      "conv2d_8 (Conv2D)            (None, 28, 28, 32)        320       \n",
      "_________________________________________________________________\n",
      "max_pooling2d_3 (MaxPooling2 (None, 14, 14, 32)        0         \n",
      "_________________________________________________________________\n",
      "conv2d_9 (Conv2D)            (None, 14, 14, 32)        9248      \n",
      "_________________________________________________________________\n",
      "max_pooling2d_4 (MaxPooling2 (None, 7, 7, 32)          0         \n",
      "_________________________________________________________________\n",
      "conv2d_10 (Conv2D)           (None, 7, 7, 32)          9248      \n",
      "_________________________________________________________________\n",
      "up_sampling2d_4 (UpSampling2 (None, 14, 14, 32)        0         \n",
      "_________________________________________________________________\n",
      "conv2d_11 (Conv2D)           (None, 14, 14, 32)        9248      \n",
      "_________________________________________________________________\n",
      "up_sampling2d_5 (UpSampling2 (None, 28, 28, 32)        0         \n",
      "_________________________________________________________________\n",
      "conv2d_12 (Conv2D)           (None, 28, 28, 1)         289       \n",
      "=================================================================\n",
      "Total params: 28,353\n",
      "Trainable params: 28,353\n",
      "Non-trainable params: 0\n",
      "_________________________________________________________________\n"
     ]
    }
   ],
   "source": [
    "autoencoder = Sequential()\n",
    "\n",
    "# Encoder Layers\n",
    "autoencoder.add(Conv2D(32, (3, 3), activation='relu', padding='same', input_shape=x_train.shape[1:]))\n",
    "autoencoder.add(MaxPooling2D((2, 2), padding='same'))\n",
    "autoencoder.add(Conv2D(32, (3, 3), activation='relu', padding='same'))\n",
    "autoencoder.add(MaxPooling2D((2, 2), padding='same'))\n",
    "\n",
    "# Decoder Layers\n",
    "autoencoder.add(Conv2D(32, (3, 3), activation='relu', padding='same'))\n",
    "autoencoder.add(UpSampling2D((2, 2)))\n",
    "autoencoder.add(Conv2D(32, (3, 3), activation='relu', padding='same'))\n",
    "autoencoder.add(UpSampling2D((2, 2)))\n",
    "autoencoder.add(Conv2D(1, (3, 3), activation='sigmoid', padding='same'))\n",
    "\n",
    "autoencoder.summary()"
   ]
  },
  {
   "cell_type": "code",
   "execution_count": 23,
   "metadata": {},
   "outputs": [
    {
     "name": "stdout",
     "output_type": "stream",
     "text": [
      "Train on 60000 samples, validate on 10000 samples\n",
      "Epoch 1/100\n",
      "60000/60000 [==============================] - 7s 118us/step - loss: 0.1725 - val_loss: 0.1173\n",
      "Epoch 2/100\n",
      "60000/60000 [==============================] - 6s 98us/step - loss: 0.1135 - val_loss: 0.1093\n",
      "Epoch 3/100\n",
      "60000/60000 [==============================] - 5s 90us/step - loss: 0.1076 - val_loss: 0.1054\n",
      "Epoch 4/100\n",
      "60000/60000 [==============================] - 6s 93us/step - loss: 0.1044 - val_loss: 0.1023\n",
      "Epoch 5/100\n",
      "60000/60000 [==============================] - 6s 97us/step - loss: 0.1026 - val_loss: 0.1009\n",
      "Epoch 6/100\n",
      "60000/60000 [==============================] - 6s 95us/step - loss: 0.1014 - val_loss: 0.0999\n",
      "Epoch 7/100\n",
      "60000/60000 [==============================] - 6s 97us/step - loss: 0.1004 - val_loss: 0.0994\n",
      "Epoch 8/100\n",
      "60000/60000 [==============================] - 6s 97us/step - loss: 0.0997 - val_loss: 0.0985\n",
      "Epoch 9/100\n",
      "60000/60000 [==============================] - 6s 96us/step - loss: 0.0989 - val_loss: 0.0981\n",
      "Epoch 10/100\n",
      "60000/60000 [==============================] - 6s 93us/step - loss: 0.0985 - val_loss: 0.0973\n",
      "Epoch 11/100\n",
      "60000/60000 [==============================] - 6s 95us/step - loss: 0.0980 - val_loss: 0.0970\n",
      "Epoch 12/100\n",
      "60000/60000 [==============================] - 6s 97us/step - loss: 0.0976 - val_loss: 0.0967\n",
      "Epoch 13/100\n",
      "60000/60000 [==============================] - 6s 95us/step - loss: 0.0972 - val_loss: 0.0964\n",
      "Epoch 14/100\n",
      "60000/60000 [==============================] - 5s 87us/step - loss: 0.0969 - val_loss: 0.0963\n",
      "Epoch 15/100\n",
      "60000/60000 [==============================] - 6s 95us/step - loss: 0.0967 - val_loss: 0.0959\n",
      "Epoch 16/100\n",
      "60000/60000 [==============================] - 6s 97us/step - loss: 0.0964 - val_loss: 0.0957\n",
      "Epoch 17/100\n",
      "60000/60000 [==============================] - 6s 96us/step - loss: 0.0963 - val_loss: 0.0955\n",
      "Epoch 18/100\n",
      "60000/60000 [==============================] - 5s 90us/step - loss: 0.0960 - val_loss: 0.0954\n",
      "Epoch 19/100\n",
      "60000/60000 [==============================] - 5s 90us/step - loss: 0.0958 - val_loss: 0.0951\n",
      "Epoch 20/100\n",
      "60000/60000 [==============================] - 6s 94us/step - loss: 0.0957 - val_loss: 0.0949\n",
      "Epoch 21/100\n",
      "60000/60000 [==============================] - 6s 94us/step - loss: 0.0955 - val_loss: 0.0949\n",
      "Epoch 22/100\n",
      "60000/60000 [==============================] - 6s 92us/step - loss: 0.0954 - val_loss: 0.0952\n",
      "Epoch 23/100\n",
      "60000/60000 [==============================] - 6s 93us/step - loss: 0.0952 - val_loss: 0.0947\n",
      "Epoch 24/100\n",
      "60000/60000 [==============================] - 6s 94us/step - loss: 0.0951 - val_loss: 0.0947\n",
      "Epoch 25/100\n",
      "60000/60000 [==============================] - 5s 88us/step - loss: 0.0950 - val_loss: 0.0947\n",
      "Epoch 26/100\n",
      "60000/60000 [==============================] - 6s 97us/step - loss: 0.0949 - val_loss: 0.0947\n",
      "Epoch 27/100\n",
      "60000/60000 [==============================] - 6s 92us/step - loss: 0.0948 - val_loss: 0.0946\n",
      "Epoch 28/100\n",
      "60000/60000 [==============================] - 5s 90us/step - loss: 0.0947 - val_loss: 0.0942\n",
      "Epoch 29/100\n",
      "60000/60000 [==============================] - 6s 96us/step - loss: 0.0947 - val_loss: 0.0942\n",
      "Epoch 30/100\n",
      "60000/60000 [==============================] - 5s 90us/step - loss: 0.0946 - val_loss: 0.0943\n",
      "Epoch 31/100\n",
      "60000/60000 [==============================] - 6s 94us/step - loss: 0.0945 - val_loss: 0.0943\n",
      "Epoch 32/100\n",
      "60000/60000 [==============================] - 5s 89us/step - loss: 0.0945 - val_loss: 0.0944\n",
      "Epoch 33/100\n",
      "60000/60000 [==============================] - 6s 98us/step - loss: 0.0944 - val_loss: 0.0941\n",
      "Epoch 34/100\n",
      "60000/60000 [==============================] - 6s 97us/step - loss: 0.0944 - val_loss: 0.0942\n",
      "Epoch 35/100\n",
      "60000/60000 [==============================] - 5s 90us/step - loss: 0.0943 - val_loss: 0.0940\n",
      "Epoch 36/100\n",
      "60000/60000 [==============================] - 6s 93us/step - loss: 0.0943 - val_loss: 0.0941\n",
      "Epoch 37/100\n",
      "60000/60000 [==============================] - 6s 92us/step - loss: 0.0942 - val_loss: 0.0938\n",
      "Epoch 38/100\n",
      "60000/60000 [==============================] - 6s 97us/step - loss: 0.0942 - val_loss: 0.0937\n",
      "Epoch 39/100\n",
      "60000/60000 [==============================] - 5s 88us/step - loss: 0.0941 - val_loss: 0.0940\n",
      "Epoch 40/100\n",
      "60000/60000 [==============================] - 5s 86us/step - loss: 0.0941 - val_loss: 0.0942\n",
      "Epoch 41/100\n",
      "60000/60000 [==============================] - 6s 96us/step - loss: 0.0940 - val_loss: 0.0948\n",
      "Epoch 42/100\n",
      "60000/60000 [==============================] - 5s 90us/step - loss: 0.0940 - val_loss: 0.0937\n",
      "Epoch 43/100\n",
      "60000/60000 [==============================] - 6s 94us/step - loss: 0.0940 - val_loss: 0.0937\n",
      "Epoch 44/100\n",
      "60000/60000 [==============================] - 5s 90us/step - loss: 0.0940 - val_loss: 0.0936\n",
      "Epoch 45/100\n",
      "60000/60000 [==============================] - 6s 97us/step - loss: 0.0939 - val_loss: 0.0939\n",
      "Epoch 46/100\n",
      "60000/60000 [==============================] - 5s 91us/step - loss: 0.0939 - val_loss: 0.0937\n",
      "Epoch 47/100\n",
      "60000/60000 [==============================] - 5s 91us/step - loss: 0.0939 - val_loss: 0.0936\n",
      "Epoch 48/100\n",
      "60000/60000 [==============================] - 6s 96us/step - loss: 0.0939 - val_loss: 0.0939\n",
      "Epoch 49/100\n",
      "60000/60000 [==============================] - 5s 89us/step - loss: 0.0938 - val_loss: 0.0935\n",
      "Epoch 50/100\n",
      "60000/60000 [==============================] - 6s 97us/step - loss: 0.0938 - val_loss: 0.0938\n",
      "Epoch 51/100\n",
      "60000/60000 [==============================] - 6s 94us/step - loss: 0.0938 - val_loss: 0.0936\n",
      "Epoch 52/100\n",
      "60000/60000 [==============================] - 6s 95us/step - loss: 0.0938 - val_loss: 0.0937\n",
      "Epoch 53/100\n",
      "60000/60000 [==============================] - 5s 88us/step - loss: 0.0937 - val_loss: 0.0934\n",
      "Epoch 54/100\n",
      "60000/60000 [==============================] - 5s 87us/step - loss: 0.0937 - val_loss: 0.0936\n",
      "Epoch 55/100\n",
      "60000/60000 [==============================] - 6s 96us/step - loss: 0.0937 - val_loss: 0.0935\n",
      "Epoch 56/100\n",
      "60000/60000 [==============================] - 5s 90us/step - loss: 0.0937 - val_loss: 0.0934\n",
      "Epoch 57/100\n",
      "60000/60000 [==============================] - 6s 98us/step - loss: 0.0936 - val_loss: 0.0934\n",
      "Epoch 58/100\n",
      "60000/60000 [==============================] - 6s 98us/step - loss: 0.0937 - val_loss: 0.0936\n",
      "Epoch 59/100\n",
      "60000/60000 [==============================] - 6s 95us/step - loss: 0.0936 - val_loss: 0.0933\n",
      "Epoch 60/100\n",
      "60000/60000 [==============================] - 5s 91us/step - loss: 0.0935 - val_loss: 0.0934\n",
      "Epoch 61/100\n",
      "60000/60000 [==============================] - 5s 90us/step - loss: 0.0935 - val_loss: 0.0933\n",
      "Epoch 62/100\n",
      "60000/60000 [==============================] - 6s 94us/step - loss: 0.0935 - val_loss: 0.0934\n",
      "Epoch 63/100\n",
      "60000/60000 [==============================] - 5s 90us/step - loss: 0.0936 - val_loss: 0.0934\n",
      "Epoch 64/100\n",
      "60000/60000 [==============================] - 5s 91us/step - loss: 0.0935 - val_loss: 0.0933\n",
      "Epoch 65/100\n",
      "60000/60000 [==============================] - 6s 96us/step - loss: 0.0935 - val_loss: 0.0936\n",
      "Epoch 66/100\n",
      "60000/60000 [==============================] - 6s 95us/step - loss: 0.0935 - val_loss: 0.0933\n",
      "Epoch 67/100\n",
      "60000/60000 [==============================] - 6s 95us/step - loss: 0.0935 - val_loss: 0.0934\n",
      "Epoch 68/100\n",
      "60000/60000 [==============================] - 6s 92us/step - loss: 0.0934 - val_loss: 0.0933\n",
      "Epoch 69/100\n",
      "60000/60000 [==============================] - 5s 89us/step - loss: 0.0934 - val_loss: 0.0934\n",
      "Epoch 70/100\n",
      "60000/60000 [==============================] - 5s 88us/step - loss: 0.0934 - val_loss: 0.0940\n",
      "Epoch 71/100\n",
      "60000/60000 [==============================] - 6s 96us/step - loss: 0.0934 - val_loss: 0.0933\n",
      "Epoch 72/100\n",
      "60000/60000 [==============================] - 6s 98us/step - loss: 0.0934 - val_loss: 0.0934\n",
      "Epoch 73/100\n",
      "60000/60000 [==============================] - 6s 97us/step - loss: 0.0934 - val_loss: 0.0932\n",
      "Epoch 74/100\n",
      "60000/60000 [==============================] - 6s 92us/step - loss: 0.0933 - val_loss: 0.0933\n",
      "Epoch 75/100\n",
      "60000/60000 [==============================] - 5s 91us/step - loss: 0.0933 - val_loss: 0.0932\n",
      "Epoch 76/100\n",
      "60000/60000 [==============================] - 5s 89us/step - loss: 0.0933 - val_loss: 0.0933\n",
      "Epoch 77/100\n"
     ]
    },
    {
     "name": "stdout",
     "output_type": "stream",
     "text": [
      "60000/60000 [==============================] - 6s 98us/step - loss: 0.0933 - val_loss: 0.0932\n",
      "Epoch 78/100\n",
      "60000/60000 [==============================] - 6s 97us/step - loss: 0.0933 - val_loss: 0.0934\n",
      "Epoch 79/100\n",
      "60000/60000 [==============================] - 5s 90us/step - loss: 0.0933 - val_loss: 0.0932\n",
      "Epoch 80/100\n",
      "60000/60000 [==============================] - 6s 95us/step - loss: 0.0933 - val_loss: 0.0931\n",
      "Epoch 81/100\n",
      "60000/60000 [==============================] - 5s 89us/step - loss: 0.0933 - val_loss: 0.0932\n",
      "Epoch 82/100\n",
      "60000/60000 [==============================] - 6s 96us/step - loss: 0.0933 - val_loss: 0.0933\n",
      "Epoch 83/100\n",
      "60000/60000 [==============================] - 6s 97us/step - loss: 0.0932 - val_loss: 0.0933\n",
      "Epoch 84/100\n",
      "60000/60000 [==============================] - 5s 90us/step - loss: 0.0932 - val_loss: 0.0932\n",
      "Epoch 85/100\n",
      "60000/60000 [==============================] - 6s 95us/step - loss: 0.0932 - val_loss: 0.0931\n",
      "Epoch 86/100\n",
      "60000/60000 [==============================] - 6s 97us/step - loss: 0.0932 - val_loss: 0.0933\n",
      "Epoch 87/100\n",
      "60000/60000 [==============================] - 5s 89us/step - loss: 0.0932 - val_loss: 0.0932\n",
      "Epoch 88/100\n",
      "60000/60000 [==============================] - 6s 95us/step - loss: 0.0932 - val_loss: 0.0933\n",
      "Epoch 89/100\n",
      "60000/60000 [==============================] - 6s 94us/step - loss: 0.0932 - val_loss: 0.0931\n",
      "Epoch 90/100\n",
      "60000/60000 [==============================] - 6s 92us/step - loss: 0.0932 - val_loss: 0.0931\n",
      "Epoch 91/100\n",
      "60000/60000 [==============================] - 6s 95us/step - loss: 0.0932 - val_loss: 0.0931\n",
      "Epoch 92/100\n",
      "60000/60000 [==============================] - 6s 95us/step - loss: 0.0932 - val_loss: 0.0931\n",
      "Epoch 93/100\n",
      "60000/60000 [==============================] - 6s 94us/step - loss: 0.0931 - val_loss: 0.0932\n",
      "Epoch 94/100\n",
      "60000/60000 [==============================] - 6s 92us/step - loss: 0.0931 - val_loss: 0.0932\n",
      "Epoch 95/100\n",
      "60000/60000 [==============================] - 6s 96us/step - loss: 0.0931 - val_loss: 0.0931\n",
      "Epoch 96/100\n",
      "60000/60000 [==============================] - 5s 89us/step - loss: 0.0931 - val_loss: 0.0933\n",
      "Epoch 97/100\n",
      "60000/60000 [==============================] - 5s 90us/step - loss: 0.0931 - val_loss: 0.0933\n",
      "Epoch 98/100\n",
      "60000/60000 [==============================] - 6s 95us/step - loss: 0.0931 - val_loss: 0.0931\n",
      "Epoch 99/100\n",
      "60000/60000 [==============================] - 6s 93us/step - loss: 0.0931 - val_loss: 0.0933\n",
      "Epoch 100/100\n",
      "60000/60000 [==============================] - 5s 91us/step - loss: 0.0931 - val_loss: 0.0931\n"
     ]
    },
    {
     "data": {
      "text/plain": [
       "<keras.callbacks.History at 0x7f50a310f048>"
      ]
     },
     "execution_count": 23,
     "metadata": {},
     "output_type": "execute_result"
    }
   ],
   "source": [
    "autoencoder.compile(optimizer='adam', loss='binary_crossentropy')\n",
    "autoencoder.fit(x_train_noisy, x_train,\n",
    "                epochs=100,\n",
    "                batch_size=128,\n",
    "                validation_data=(x_test_noisy, x_test))"
   ]
  },
  {
   "cell_type": "code",
   "execution_count": 24,
   "metadata": {},
   "outputs": [
    {
     "data": {
      "image/png": "[encoded data removed]",
      "text/plain": [
       "<Figure size 1296x288 with 20 Axes>"
      ]
     },
     "metadata": {
      "needs_background": "light"
     },
     "output_type": "display_data"
    }
   ],
   "source": [
    "# Denoise test images\n",
    "x_test_denoised = autoencoder.predict(x_test_noisy)\n",
    "\n",
    "plt.figure(figsize=(18, 4))\n",
    "\n",
    "for i, image_idx in enumerate(random_test_images):\n",
    "    # plot original image\n",
    "    ax = plt.subplot(2, num_images, i + 1)\n",
    "    plt.imshow(x_test_noisy[image_idx].reshape(28, 28))\n",
    "    plt.gray()\n",
    "    ax.get_xaxis().set_visible(False)\n",
    "    ax.get_yaxis().set_visible(False)\n",
    "    \n",
    "    # plot reconstructed image\n",
    "    ax = plt.subplot(2, num_images, num_images + i + 1)\n",
    "    plt.imshow(x_test_denoised[image_idx].reshape(28, 28))\n",
    "    plt.gray()\n",
    "    ax.get_xaxis().set_visible(False)\n",
    "    ax.get_yaxis().set_visible(False)\n",
    "plt.show()"
   ]
  },
  {
   "cell_type": "markdown",
   "metadata": {},
   "source": [
    "Fantastic, those images almost look like the originals."
   ]
  },
  {
   "cell_type": "code",
   "execution_count": null,
   "metadata": {},
   "outputs": [],
   "source": []
  }
 ],
 "metadata": {
  "kernelspec": {
   "display_name": "Python 2",
   "language": "python",
   "name": "python2"
  },
  "language_info": {
   "codemirror_mode": {
    "name": "ipython",
    "version": 3
   },
   "file_extension": ".py",
   "mimetype": "text/x-python",
   "name": "python",
   "nbconvert_exporter": "python",
   "pygments_lexer": "ipython3",
   "version": "3.5.2"
  }
 },
 "nbformat": 4,
 "nbformat_minor": 2
}
